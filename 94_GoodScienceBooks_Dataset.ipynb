{
 "cells": [
  {
   "cell_type": "markdown",
   "id": "d5b947e2",
   "metadata": {},
   "source": [
    "has directories with symbolic links per label:\n",
    "    \n",
    "   - medical/flashcards\n",
    "   - medical/textbooks\n",
    "   - medical/misc\n",
    "   - biotech\n",
    "   - cs/ml\n",
    "   - cs/oreilly\n",
    "   - cs/manning\n",
    "    \n",
    "     \n",
    " has directories with formats that mirror structure:\n",
    " \n",
    "   - pdf\n",
    "   - txt\n",
    "   - csv_metadata\n",
    "   - pkl\n",
    "   - epub\n",
    "   - pdf_10_5\n",
    "   - png_1\n",
    "   - mp3\n",
    "   - mp3_10\n",
    "   - csv_index\n",
    "   - csv_contents\n",
    "   - csv_figures\n",
    "   - png_figures\n",
    "   - latex_figures\n",
    "   - nfo_figures\n",
    "   - markdown\n",
    "   - html\n",
    "   \n",
    "   a desktop /mobile swift application that allows to label pdf documents"
   ]
  }
 ],
 "metadata": {
  "kernelspec": {
   "display_name": "Python 3 (ipykernel)",
   "language": "python",
   "name": "python3"
  },
  "language_info": {
   "codemirror_mode": {
    "name": "ipython",
    "version": 3
   },
   "file_extension": ".py",
   "mimetype": "text/x-python",
   "name": "python",
   "nbconvert_exporter": "python",
   "pygments_lexer": "ipython3",
   "version": "3.9.12"
  }
 },
 "nbformat": 4,
 "nbformat_minor": 5
}
