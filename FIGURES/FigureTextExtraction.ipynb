{
 "cells": [
  {
   "cell_type": "markdown",
   "id": "cce02074-b7ff-45e5-bf6b-2202f7734219",
   "metadata": {},
   "source": [
    "recognize document "
   ]
  },
  {
   "cell_type": "markdown",
   "id": "29d5c6b8-64ef-48c1-8ab1-aae0a89c14aa",
   "metadata": {},
   "source": [
    "on page with figure find text refering to the figure and text under the figure"
   ]
  },
  {
   "cell_type": "markdown",
   "id": "a6b3c3be-1721-418c-aeac-b49552705b45",
   "metadata": {},
   "source": [
    "find in the text surrounding text reffering to figure sentences related to the figure description text"
   ]
  }
 ],
 "metadata": {
  "kernelspec": {
   "display_name": "Python 3 (ipykernel)",
   "language": "python",
   "name": "python3"
  },
  "language_info": {
   "codemirror_mode": {
    "name": "ipython",
    "version": 3
   },
   "file_extension": ".py",
   "mimetype": "text/x-python",
   "name": "python",
   "nbconvert_exporter": "python",
   "pygments_lexer": "ipython3",
   "version": "3.9.13"
  }
 },
 "nbformat": 4,
 "nbformat_minor": 5
}
