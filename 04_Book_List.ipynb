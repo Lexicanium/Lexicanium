{
 "cells": [
  {
   "cell_type": "markdown",
   "id": "d54dbda1-adba-463c-b1d5-a8e604fa53e1",
   "metadata": {},
   "source": [
    "list all books from one directory in ipyregulartable"
   ]
  },
  {
   "cell_type": "markdown",
   "id": "43f0b2dc-22d8-4365-a03b-c57af7c016e3",
   "metadata": {},
   "source": [
    "list book formats as well, as well as file sizes"
   ]
  }
 ],
 "metadata": {
  "kernelspec": {
   "display_name": "Python 3 (ipykernel)",
   "language": "python",
   "name": "python3"
  },
  "language_info": {
   "codemirror_mode": {
    "name": "ipython",
    "version": 3
   },
   "file_extension": ".py",
   "mimetype": "text/x-python",
   "name": "python",
   "nbconvert_exporter": "python",
   "pygments_lexer": "ipython3",
   "version": "3.9.12"
  }
 },
 "nbformat": 4,
 "nbformat_minor": 5
}
