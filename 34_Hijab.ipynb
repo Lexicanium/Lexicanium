{
 "cells": [
  {
   "cell_type": "markdown",
   "id": "87c08b42-16e4-4f28-947c-82dfe772a773",
   "metadata": {},
   "source": [
    "A program that takes a video file and anonymises face and tatoo visible on the body of people, by recognizing faces and tatoos"
   ]
  },
  {
   "cell_type": "code",
   "execution_count": null,
   "id": "9cedd57a-0f4d-4973-8e46-c5044885f928",
   "metadata": {},
   "outputs": [],
   "source": [
    "use ufc videos as dataset"
   ]
  }
 ],
 "metadata": {
  "kernelspec": {
   "display_name": "Python 3 (ipykernel)",
   "language": "python",
   "name": "python3"
  },
  "language_info": {
   "codemirror_mode": {
    "name": "ipython",
    "version": 3
   },
   "file_extension": ".py",
   "mimetype": "text/x-python",
   "name": "python",
   "nbconvert_exporter": "python",
   "pygments_lexer": "ipython3",
   "version": "3.9.13"
  }
 },
 "nbformat": 4,
 "nbformat_minor": 5
}
