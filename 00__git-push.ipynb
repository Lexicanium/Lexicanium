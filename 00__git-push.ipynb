{
 "cells": [
  {
   "cell_type": "code",
   "execution_count": 9,
   "id": "ead84479",
   "metadata": {},
   "outputs": [
    {
     "name": "stdout",
     "output_type": "stream",
     "text": [
      "/home/standard/Notebooks\n",
      "On branch main\n",
      "Your branch is ahead of 'origin/main' by 17 commits.\n",
      "  (use \"git push\" to publish your local commits)\n",
      "\n",
      "nothing to commit, working tree clean\n",
      "On branch main\n",
      "Your branch is ahead of 'origin/main' by 17 commits.\n",
      "  (use \"git push\" to publish your local commits)\n",
      "\n",
      "nothing to commit, working tree clean\n",
      "Enumerating objects: 54, done.\n",
      "Counting objects: 100% (54/54), done.\n",
      "Delta compression using up to 16 threads\n",
      "Compressing objects: 100% (51/51), done.\n",
      "Writing objects: 100% (51/51), 6.81 KiB | 3.41 MiB/s, done.\n",
      "Total 51 (delta 33), reused 0 (delta 0)\n",
      "remote: Resolving deltas: 100% (33/33), completed with 3 local objects.\u001b[K\n",
      "To github.com:darvin/skull.git\n",
      "   5314a38..00601fa  main -> main\n"
     ]
    }
   ],
   "source": [
    "%cd ~/Notebooks/\n",
    "!git status\n",
    "!git add .\n",
    "!git commit -am \"Manual commit\"\n",
    "!git push"
   ]
  },
  {
   "cell_type": "code",
   "execution_count": null,
   "id": "01016b53-64a5-4ccb-83cf-a829f58d09ec",
   "metadata": {},
   "outputs": [],
   "source": []
  }
 ],
 "metadata": {
  "kernelspec": {
   "display_name": "Python 3 (ipykernel)",
   "language": "python",
   "name": "python3"
  },
  "language_info": {
   "codemirror_mode": {
    "name": "ipython",
    "version": 3
   },
   "file_extension": ".py",
   "mimetype": "text/x-python",
   "name": "python",
   "nbconvert_exporter": "python",
   "pygments_lexer": "ipython3",
   "version": "3.9.12"
  }
 },
 "nbformat": 4,
 "nbformat_minor": 5
}
