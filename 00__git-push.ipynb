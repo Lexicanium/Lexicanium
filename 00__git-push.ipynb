{
 "cells": [
  {
   "cell_type": "code",
   "execution_count": 10,
   "id": "ead84479",
   "metadata": {},
   "outputs": [
    {
     "name": "stdout",
     "output_type": "stream",
     "text": [
      "/home/standard/Notebooks\n",
      "On branch main\n",
      "Your branch is ahead of 'origin/main' by 17 commits.\n",
      "  (use \"git push\" to publish your local commits)\n",
      "\n",
      "Changes not staged for commit:\n",
      "  (use \"git add <file>...\" to update what will be committed)\n",
      "  (use \"git restore <file>...\" to discard changes in working directory)\n",
      "\t\u001b[31mmodified:   00_Intro.ipynb\u001b[m\n",
      "\n",
      "no changes added to commit (use \"git add\" and/or \"git commit -a\")\n",
      "[main dd56b66] Manual commit\n",
      " 1 file changed, 8 insertions(+), 6 deletions(-)\n",
      "Enumerating objects: 69, done.\n",
      "Counting objects: 100% (69/69), done.\n",
      "Delta compression using up to 16 threads\n",
      "Compressing objects: 100% (63/63), done.\n",
      "Writing objects: 100% (63/63), 38.76 KiB | 3.23 MiB/s, done.\n",
      "Total 63 (delta 41), reused 0 (delta 0)\n",
      "remote: Resolving deltas: 100% (41/41), completed with 3 local objects.\u001b[K\n",
      "To github.com:darvin/skull.git\n",
      "   00601fa..dd56b66  main -> main\n"
     ]
    }
   ],
   "source": [
    "%cd ~/Notebooks/\n",
    "!git status\n",
    "!git add .\n",
    "!git commit -am \"Manual commit\"\n",
    "!git push"
   ]
  },
  {
   "cell_type": "code",
   "execution_count": null,
   "id": "01016b53-64a5-4ccb-83cf-a829f58d09ec",
   "metadata": {},
   "outputs": [],
   "source": []
  }
 ],
 "metadata": {
  "kernelspec": {
   "display_name": "Python 3 (ipykernel)",
   "language": "python",
   "name": "python3"
  },
  "language_info": {
   "codemirror_mode": {
    "name": "ipython",
    "version": 3
   },
   "file_extension": ".py",
   "mimetype": "text/x-python",
   "name": "python",
   "nbconvert_exporter": "python",
   "pygments_lexer": "ipython3",
   "version": "3.9.12"
  }
 },
 "nbformat": 4,
 "nbformat_minor": 5
}
