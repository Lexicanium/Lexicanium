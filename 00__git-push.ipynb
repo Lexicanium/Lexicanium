{
 "cells": [
  {
   "cell_type": "code",
   "execution_count": 11,
   "id": "ead84479",
   "metadata": {},
   "outputs": [
    {
     "name": "stdout",
     "output_type": "stream",
     "text": [
      "/home/standard/Notebooks\n",
      "On branch main\n",
      "Your branch is up to date with 'origin/main'.\n",
      "\n",
      "Changes not staged for commit:\n",
      "  (use \"git add <file>...\" to update what will be committed)\n",
      "  (use \"git restore <file>...\" to discard changes in working directory)\n",
      "\t\u001b[31mmodified:   00_Intro.ipynb\u001b[m\n",
      "\t\u001b[31mmodified:   00__git-push.ipynb\u001b[m\n",
      "\t\u001b[31mmodified:   01_Book.ipynb\u001b[m\n",
      "\n",
      "no changes added to commit (use \"git add\" and/or \"git commit -a\")\n",
      "[main ca611fe] Manual commit\n",
      " 3 files changed, 28 insertions(+), 33 deletions(-)\n",
      "Enumerating objects: 9, done.\n",
      "Counting objects: 100% (9/9), done.\n",
      "Delta compression using up to 16 threads\n",
      "Compressing objects: 100% (5/5), done.\n",
      "Writing objects: 100% (5/5), 963 bytes | 963.00 KiB/s, done.\n",
      "Total 5 (delta 4), reused 0 (delta 0)\n",
      "remote: Resolving deltas: 100% (4/4), completed with 4 local objects.\u001b[K\n",
      "To github.com:darvin/skull.git\n",
      "   dd56b66..ca611fe  main -> main\n"
     ]
    }
   ],
   "source": [
    "%cd ~/Notebooks/\n",
    "!git status\n",
    "!git add .\n",
    "!git commit -am \"Manual commit\"\n",
    "!git push"
   ]
  },
  {
   "cell_type": "code",
   "execution_count": null,
   "id": "01016b53-64a5-4ccb-83cf-a829f58d09ec",
   "metadata": {},
   "outputs": [],
   "source": []
  }
 ],
 "metadata": {
  "kernelspec": {
   "display_name": "Python 3 (ipykernel)",
   "language": "python",
   "name": "python3"
  },
  "language_info": {
   "codemirror_mode": {
    "name": "ipython",
    "version": 3
   },
   "file_extension": ".py",
   "mimetype": "text/x-python",
   "name": "python",
   "nbconvert_exporter": "python",
   "pygments_lexer": "ipython3",
   "version": "3.9.12"
  }
 },
 "nbformat": 4,
 "nbformat_minor": 5
}
