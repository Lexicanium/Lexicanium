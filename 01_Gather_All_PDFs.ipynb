{
 "cells": [
  {
   "cell_type": "markdown",
   "id": "2b2506ed",
   "metadata": {},
   "source": [
    "gather all PDF files found in the system into "
   ]
  },
  {
   "cell_type": "markdown",
   "id": "969cbf6a",
   "metadata": {},
   "source": [
    "unzip all datasets"
   ]
  },
  {
   "cell_type": "code",
   "execution_count": null,
   "id": "c611629e",
   "metadata": {},
   "outputs": [],
   "source": [
    "%cd /data/DATASETS/\n",
    "!unzip '*.zip'"
   ]
  },
  {
   "cell_type": "code",
   "execution_count": null,
   "id": "230ac9ca",
   "metadata": {},
   "outputs": [],
   "source": []
  },
  {
   "cell_type": "code",
   "execution_count": 1,
   "id": "aced794e",
   "metadata": {},
   "outputs": [
    {
     "name": "stdout",
     "output_type": "stream",
     "text": [
      "env: DATASET_DIR=/data/DATASETS/B\n"
     ]
    }
   ],
   "source": [
    "%env DATASET_DIR=/data/DATASETS/B"
   ]
  },
  {
   "cell_type": "code",
   "execution_count": null,
   "id": "81c18859",
   "metadata": {},
   "outputs": [],
   "source": [
    "!mkdir -p $DATASET_DIR\n",
    "%cd $DATASET_DIR\n",
    "find /data/Books -name \\*.pdf -exec ln {} ./ \\;"
   ]
  },
  {
   "cell_type": "code",
   "execution_count": null,
   "id": "3e0b24e5",
   "metadata": {},
   "outputs": [],
   "source": [
    "%cd /data\n",
    "mv Boo"
   ]
  }
 ],
 "metadata": {
  "kernelspec": {
   "display_name": "Python 3 (ipykernel)",
   "language": "python",
   "name": "python3"
  },
  "language_info": {
   "codemirror_mode": {
    "name": "ipython",
    "version": 3
   },
   "file_extension": ".py",
   "mimetype": "text/x-python",
   "name": "python",
   "nbconvert_exporter": "python",
   "pygments_lexer": "ipython3",
   "version": "3.9.13"
  }
 },
 "nbformat": 4,
 "nbformat_minor": 5
}
