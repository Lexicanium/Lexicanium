{
 "cells": [
  {
   "cell_type": "markdown",
   "id": "64a088e8",
   "metadata": {},
   "source": [
    "gather all PDF files found in the system into "
   ]
  },
  {
   "cell_type": "code",
   "execution_count": 1,
   "id": "31383c26",
   "metadata": {},
   "outputs": [
    {
     "name": "stdout",
     "output_type": "stream",
     "text": [
      "env: DATASET_DIR=/data/DATASETS/B\n"
     ]
    }
   ],
   "source": [
    "%env DATASET_DIR=/data/DATASETS/B"
   ]
  },
  {
   "cell_type": "code",
   "execution_count": null,
   "id": "aec4d51d",
   "metadata": {},
   "outputs": [],
   "source": [
    "!mkdir -p $DATASET_DIR\n",
    "%cd $DATASET_DIR\n"
   ]
  }
 ],
 "metadata": {
  "kernelspec": {
   "display_name": "Python 3 (ipykernel)",
   "language": "python",
   "name": "python3"
  },
  "language_info": {
   "codemirror_mode": {
    "name": "ipython",
    "version": 3
   },
   "file_extension": ".py",
   "mimetype": "text/x-python",
   "name": "python",
   "nbconvert_exporter": "python",
   "pygments_lexer": "ipython3",
   "version": "3.9.13"
  }
 },
 "nbformat": 4,
 "nbformat_minor": 5
}
