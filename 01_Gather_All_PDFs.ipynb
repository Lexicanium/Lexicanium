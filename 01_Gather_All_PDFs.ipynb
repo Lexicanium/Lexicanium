{
 "cells": [
  {
   "cell_type": "markdown",
   "id": "2b2506ed",
   "metadata": {},
   "source": [
    "gather all PDF files found in the system into "
   ]
  },
  {
   "cell_type": "markdown",
   "id": "969cbf6a",
   "metadata": {},
   "source": [
    "unzip all datasets"
   ]
  },
  {
   "cell_type": "code",
   "execution_count": null,
   "id": "c611629e",
   "metadata": {},
   "outputs": [
    {
     "name": "stdout",
     "output_type": "stream",
     "text": [
      "/data/DATASETS\n",
      "Archive:  covid19engineeringbooksnlpdataset.zip\n",
      "  inflating: Metadata.xlsx           \n",
      "  inflating: data/data/A_Beginners_Guide_to_Python_3_Programming.pdf  \n",
      "  inflating: data/data/A_Beginners_Guide_to_R.pdf  \n",
      "  inflating: data/data/A_Beginners_Guide_to_Scala_Object_Orientation_and_Functional_Programming.pdf  \n",
      "  inflating: data/data/A_Concise_Guide_to_Market_Research.pdf  \n",
      "  inflating: data/data/A_Course_in_Rasch_Measurement_Theory.pdf  \n",
      "  inflating: data/data/A_First_Introduction_to_Quantum_Physics.pdf  \n",
      "  inflating: data/data/A_Modern_Introduction_to_Probability_and_Statistics.pdf  \n",
      "  inflating: data/data/A_Primer_on_Scientific_Programming_with_Python.pdf  \n",
      "  inflating: data/data/A_Pythagorean_Introduction_to_Number_Theory.pdf  \n",
      "  inflating: data/data/Abstract_Algebra.pdf  \n",
      "  inflating: data/data/Acid-Base_Diagrams.pdf  \n",
      "  inflating: data/data/Acquired_Brain_Injury.pdf  \n",
      "  inflating: data/data/Additive_Manufacturing_Technologies.pdf  \n",
      "  inflating: data/data/Advanced_Guide_to_Python_3_Programming.pdf  \n",
      "  inflating: data/data/Advanced_Organic_Chemistry.pdf  \n",
      "  inflating: data/data/Advanced_Quantum_Mechanics.pdf  \n",
      "  inflating: data/data/Air_Pollution_and_Greenhouse_Gases.pdf  \n",
      "  inflating: data/data/Algebra.pdf   \n",
      "  inflating: data/data/All_of_Statistics.pdf  \n",
      "  inflating: data/data/Alternative_Energy_Sources.pdf  \n",
      "  inflating: data/data/An_Anthology_of_London_in_Literature_1558-1914.pdf  \n",
      "  inflating: data/data/An_Introduction_to_Biomechanics.pdf  \n",
      "  inflating: data/data/An_Introduction_to_Machine_Learning.pdf  \n",
      "  inflating: data/data/An_Introduction_to_Soil_Mechanics.pdf  \n",
      "  inflating: data/data/An_Introduction_to_Statistical_Learning.pdf  \n",
      "  inflating: data/data/An_Introduction_to_Zooarchaeology.pdf  \n",
      "  inflating: data/data/Analysis_for_Computer_Scientists.pdf  \n",
      "  inflating: data/data/Analytical_Corporate_Finance.pdf  \n",
      "  inflating: data/data/Analyzing_Qualitative_Data_with_MAXQDA.pdf  \n",
      "  inflating: data/data/Applied_Behavior_Analysis.pdf  \n",
      "  inflating: data/data/Applied_Bioinformatics.pdf  \n",
      "  inflating: data/data/Applied_Chemistry.pdf  \n",
      "  inflating: data/data/Applied_Linear_Algebra.pdf  \n",
      "  inflating: data/data/Applied_Multivariate_Statistical_Analysis.pdf  \n",
      "  inflating: data/data/Applied_Partial_Differential_Equations.pdf  \n",
      "  inflating: data/data/Applied_Predictive_Modeling.pdf  \n",
      "  inflating: data/data/Applied_Quantitative_Finance.pdf  \n",
      "  inflating: data/data/ArcGIS_for_Environmental_and_Water_Issues.pdf  \n",
      "  inflating: data/data/Argumentation_Theory_A_Pragma-Dialectical_Perspective.pdf  \n",
      "  inflating: data/data/Astronautics.pdf  \n",
      "  inflating: data/data/Automata_and_Computability.pdf  \n",
      "  inflating: data/data/Automatic_Control_with_Experiments.pdf  \n",
      "  inflating: data/data/Basic_Concepts_in_Computational_Physics.pdf  \n",
      "  inflating: data/data/Basics_of_Laser_Physics.pdf  \n",
      "  inflating: data/data/Bayesian_Essentials_with_R.pdf  \n",
      "  inflating: data/data/Bayesian_and_Frequentist_Regression_Methods.pdf  \n",
      "  inflating: data/data/Bioinformatics_for_Evolutionary_Biologists.pdf  \n",
      "  inflating: data/data/Biomedical_Informatics.pdf  \n",
      "  inflating: data/data/Breast_Cancer.pdf  \n",
      "  inflating: data/data/Brewing_Science_A_Multidisciplinary_Approach.pdf  \n",
      "  inflating: data/data/Brownian_Motion_Martingales_and_Stochastic_Calculus.pdf  \n",
      "  inflating: data/data/Building_Energy_Modeling_with_OpenStudio.pdf  \n",
      "  inflating: data/data/Business_Ethics_A_Philosophical_and_Behavioral_Approach.pdf  \n",
      "  inflating: data/data/Business_Process_Management_Cases.pdf  \n",
      "  inflating: data/data/Calculus_With_Applications.pdf  \n",
      "  inflating: data/data/Cardiovascular_Biomechanics.pdf  \n",
      "  inflating: data/data/Ceramic_Materials.pdf  \n",
      "  inflating: data/data/Chemical_Thermodynamics.pdf  \n",
      "  inflating: data/data/Chemical_and_Bioprocess_Engineering.pdf  \n",
      "  inflating: data/data/Child_Neuropsychology.pdf  \n",
      "  inflating: data/data/Classical_Fourier_Analysis.pdf  \n",
      "  inflating: data/data/Climate_Change_Science_A_Modern_Synthesis.pdf  \n",
      "  inflating: data/data/Clinical_Assessment_of_Child_and_Adolescent_Personality_and_Behavior.pdf  \n",
      "  inflating: data/data/Clinical_Data_Analysis_on_a_Pocket_Calculator.pdf  \n",
      "  inflating: data/data/Clinical_Methods_in_Medical_Family_Therapy.pdf  \n",
      "  inflating: data/data/Clinical_Neuroanatomy.pdf  \n",
      "  inflating: data/data/Communication_and_Bioethics_at_the_End_of_Life.pdf  \n",
      "  inflating: data/data/Complex_Analysis.pdf  \n",
      "  inflating: data/data/Composite_Materials.pdf  \n",
      "  inflating: data/data/Computational_Geometry.pdf  \n",
      "  inflating: data/data/Computational_Physics.pdf  \n",
      "  inflating: data/data/Computer_Vision.pdf  \n",
      "  inflating: data/data/Concepts_Methods_and_Practical_Applications_in_Applied_Demography.pdf  \n",
      "  inflating: data/data/Concise_Guide_to_Databases.pdf  \n",
      "  inflating: data/data/Concise_Guide_to_Software_Engineering.pdf  \n",
      "  inflating: data/data/Conferencing_and_Presentation_English_for_Young_Academics.pdf  \n",
      "  inflating: data/data/Control_Engineering.pdf  \n",
      "  inflating: data/data/Control_Engineering_MATLAB_Exercises.pdf  \n",
      "  inflating: data/data/Corporate_Social_Responsibility.pdf  \n",
      "  inflating: data/data/Correctional_Counseling_and_Treatment.pdf  \n",
      "  inflating: data/data/Cosmology_for_the_Curious.pdf  \n",
      "  inflating: data/data/Criminal_Justice_and_Mental_Health.pdf  \n",
      "  inflating: data/data/Cryptography_Made_Simple.pdf  \n",
      "  inflating: data/data/Customer_Relationship_Management.pdf  \n",
      "  inflating: data/data/Data_Analysis.pdf  \n",
      "  inflating: data/data/Data_Mining.pdf  \n",
      "  inflating: data/data/Data_Science_and_Predictive_Analytics.pdf  \n",
      "  inflating: data/data/Data_Structures_and_Algorithms_with_Python.pdf  \n",
      "  inflating: data/data/Database_Marketing.pdf  \n",
      "  inflating: data/data/Design_Research_in_Information_Systems.pdf  \n",
      "  inflating: data/data/Design_and_Analysis_of_Experiments.pdf  \n",
      "  inflating: data/data/Developmental_Neurobiology.pdf  \n",
      "  inflating: data/data/Differential_Equations_and_Their_Applications.pdf  \n",
      "  inflating: data/data/Digital_Business_Models.pdf  \n",
      "  inflating: data/data/Digital_Image_Processing.pdf  \n",
      "  inflating: data/data/Disability_and_Vocational_Rehabilitation_in_Rural_Settings.pdf  \n",
      "  inflating: data/data/Discrete_Mathematics.pdf  \n",
      "  inflating: data/data/ENZYMES_Catalysis_Kinetics_and_Mechanisms.pdf  \n",
      "  inflating: data/data/Econometrics.pdf  \n",
      "  inflating: data/data/Economics_as_Applied_Ethics.pdf  \n",
      "  inflating: data/data/Educational_Technology.pdf  \n",
      "  inflating: data/data/Electrical_Machines.pdf  \n",
      "  inflating: data/data/Electricity_and_Magnetism.pdf  \n",
      "  inflating: data/data/Electrochemical_Impedance_Spectroscopy_and_its_Applications.pdf  \n",
      "  inflating: data/data/Electrochemistry.pdf  \n",
      "  inflating: data/data/Electronic_Commerce.pdf  \n",
      "  inflating: data/data/Electronic_Commerce_2018.pdf  \n",
      "  inflating: data/data/Electronics_for_Embedded_Systems.pdf  \n",
      "  inflating: data/data/Elementary_Analysis.pdf  \n",
      "  inflating: data/data/Elementary_Mechanics_Using_Matlab.pdf  \n",
      "  inflating: data/data/Elementary_Mechanics_Using_Python.pdf  \n",
      "  inflating: data/data/Empathetic_Space_on_Screen.pdf  \n",
      "  inflating: data/data/Energy_Economics.pdf  \n",
      "  inflating: data/data/Energy_Harvesting_and_Energy_Efficiency.pdf  \n",
      "  inflating: data/data/Energy_Storage.pdf  \n",
      "  inflating: data/data/Energy_and_the_Wealth_of_Nations.pdf  \n",
      "  inflating: data/data/Engineering_Electromagnetics.pdf  \n",
      "  inflating: data/data/Engineering_Flow_and_Heat_Exchange.pdf  \n",
      "  inflating: data/data/Engineering_Mechanics_1.pdf  \n",
      "  inflating: data/data/Engineering_Mechanics_2.pdf  \n",
      "  inflating: data/data/Enterprise_Risk_Management_Models.pdf  \n",
      "  inflating: data/data/Entertainment_Science.pdf  \n",
      "  inflating: data/data/Epidemiological_Research_Terms_and_Concepts.pdf  \n",
      "  inflating: data/data/Essential_Astrophysics.pdf  \n",
      "  inflating: data/data/Essentials_of_Business_Analytics.pdf  "
     ]
    }
   ],
   "source": [
    "%cd /data/DATASETS/\n",
    "!unzip '*.zip'"
   ]
  },
  {
   "cell_type": "code",
   "execution_count": null,
   "id": "230ac9ca",
   "metadata": {},
   "outputs": [],
   "source": []
  },
  {
   "cell_type": "code",
   "execution_count": null,
   "id": "aced794e",
   "metadata": {},
   "outputs": [],
   "source": [
    "%env DATASET_DIR=/data/DATASETS/B"
   ]
  },
  {
   "cell_type": "code",
   "execution_count": null,
   "id": "81c18859",
   "metadata": {},
   "outputs": [],
   "source": [
    "!mkdir -p $DATASET_DIR\n",
    "%cd $DATASET_DIR\n",
    "find /data/Books -name \\*.pdf -exec ln {} ./ \\;"
   ]
  },
  {
   "cell_type": "code",
   "execution_count": null,
   "id": "3e0b24e5",
   "metadata": {},
   "outputs": [],
   "source": [
    "%cd /data\n",
    "mv Boo"
   ]
  }
 ],
 "metadata": {
  "kernelspec": {
   "display_name": "Python 3 (ipykernel)",
   "language": "python",
   "name": "python3"
  },
  "language_info": {
   "codemirror_mode": {
    "name": "ipython",
    "version": 3
   },
   "file_extension": ".py",
   "mimetype": "text/x-python",
   "name": "python",
   "nbconvert_exporter": "python",
   "pygments_lexer": "ipython3",
   "version": "3.9.13"
  }
 },
 "nbformat": 4,
 "nbformat_minor": 5
}
