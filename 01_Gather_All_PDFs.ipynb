{
 "cells": [
  {
   "cell_type": "markdown",
   "id": "2b2506ed",
   "metadata": {},
   "source": [
    "gather all PDF files found in the system into "
   ]
  },
  {
   "cell_type": "code",
   "execution_count": 29,
   "id": "b4e3201a-6d81-4cf3-b7be-27c7030a7e70",
   "metadata": {},
   "outputs": [
    {
     "name": "stdout",
     "output_type": "stream",
     "text": [
      "/data/BOOKS_PDF_FLAT\n"
     ]
    }
   ],
   "source": [
    "%cd /data/BOOKS_PDF_FLAT/\n",
    "!find . -type f -delete"
   ]
  },
  {
   "cell_type": "code",
   "execution_count": 53,
   "id": "1e74a580-9ac9-49e3-807c-c4b7f3196887",
   "metadata": {},
   "outputs": [
    {
     "name": "stdout",
     "output_type": "stream",
     "text": [
      "/data/BOOKS_PDF_FLAT\n",
      "91088\n"
     ]
    }
   ],
   "source": [
    "!pwd\n",
    "!ls | wc -l"
   ]
  },
  {
   "cell_type": "code",
   "execution_count": 52,
   "id": "61b0670e-b2bd-432a-86ac-f2413936e487",
   "metadata": {
    "tags": []
   },
   "outputs": [
    {
     "name": "stdout",
     "output_type": "stream",
     "text": [
      "PERMISSION ERROR: /data/BOOKS/BOOKS_NEW/BooksNew/NOT_SORTED/Leibniz_-_Discourse_on_Metaphysics..pdf\n",
      "PERMISSION ERROR: /data/BOOKS/BOOKS_NEW/BooksNew/NOT_SORTED/Leibniz_-_On_Nature_Itself..pdf\n",
      "PERMISSION ERROR: /data/BOOKS/BOOKS_NEW/BooksNew/NOT_SORTED/Leibniz_-_Meditations_on_Knowledge,_Truth,_and_Ideas..pdf\n"
     ]
    }
   ],
   "source": [
    "SRC = \"/data/BOOKS\"\n",
    "DST = \"/data/BOOKS_PDF_FLAT\"\n",
    "MAX_FILENAME_LEN = 151\n",
    "import glob, os, fnmatch, re\n",
    "\n",
    "def insensitive_glob(pattern):\n",
    "    def either(c):\n",
    "        return '[%s%s]' % (c.lower(), c.upper()) if c.isalpha() else c\n",
    "    return glob.glob(''.join(map(either, pattern)), recursive=True)\n",
    "\n",
    "\n",
    "limit = 10000000\n",
    "i = 0 \n",
    "# root_dir needs a trailing slash (i.e. /root/dir/)\n",
    "for src_path in insensitive_glob(f\"{SRC}/**/*.pdf\"):\n",
    "    if i > limit:\n",
    "        break\n",
    "    i += 1\n",
    "    #print(src_path)\n",
    "    dst_filename = src_path.replace(f\"{SRC}/\", \"\").replace(\"/\", \"_-_\")\n",
    "    if len(dst_filename)>MAX_FILENAME_LEN:\n",
    "        dst_filename = dst_filename[:MAX_FILENAME_LEN-4] + \".pdf\"\n",
    "    # print(dst_filename)\n",
    "    try:\n",
    "        os.link(src_path, f\"{DST}/{dst_filename}\")\n",
    "    except FileExistsError:\n",
    "        pass\n",
    "    except PermissionError:\n",
    "        print(f\"PERMISSION ERROR: {src_path}\")\n",
    "\n",
    "\n",
    "\n",
    "\n"
   ]
  },
  {
   "cell_type": "code",
   "execution_count": 42,
   "id": "dcc17909-6d99-4988-aea2-031d3bc95577",
   "metadata": {},
   "outputs": [
    {
     "data": {
      "text/plain": [
       "188"
      ]
     },
     "execution_count": 42,
     "metadata": {},
     "output_type": "execute_result"
    }
   ],
   "source": [
    "len ('/data/BOOKS_PDF_FLAT/StandardPreSelected_-_Палычева Л.Н., Лазарев Н.В. - Анатомия человека. Русско-латинско-английский атлас (Атлас человека, профессионально-популярное издание) - 2017.pdf')"
   ]
  }
 ],
 "metadata": {
  "kernelspec": {
   "display_name": "Python 3 (ipykernel)",
   "language": "python",
   "name": "python3"
  },
  "language_info": {
   "codemirror_mode": {
    "name": "ipython",
    "version": 3
   },
   "file_extension": ".py",
   "mimetype": "text/x-python",
   "name": "python",
   "nbconvert_exporter": "python",
   "pygments_lexer": "ipython3",
   "version": "3.9.13"
  },
  "toc-showcode": true
 },
 "nbformat": 4,
 "nbformat_minor": 5
}
