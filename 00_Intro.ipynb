{
 "cells": [
  {
   "cell_type": "code",
   "execution_count": 36,
   "id": "31190e4e-42e9-43c1-8af7-5ce603abf84f",
   "metadata": {},
   "outputs": [],
   "source": [
    "%%capture\n",
    "%run ~/Notebooks/00__Fonts.ipynb"
   ]
  },
  {
   "cell_type": "code",
   "execution_count": 66,
   "id": "8a943c01-b259-445e-adac-ea0ec01af165",
   "metadata": {},
   "outputs": [
    {
     "data": {
      "text/html": [
       "<p style=\"font-size: 6px\"><br>﷽ℋ𝓊𝓂𝒶𝓃 𝔠𝔦𝔳𝔦𝔩𝔦𝔷𝔞𝔱𝔦𝔬𝔫 𝔥𝔞𝔳𝔢 𝔟𝔢𝔢𝔫 𝔰𝔱𝔯𝔲𝔤𝔤𝔩𝔢𝔡 𝔴𝔦𝔱𝔥 𝔪𝔢𝔪𝔬𝔯𝔦𝔷𝔞𝔱𝔦𝔬𝔫 𝔳𝔰 𝔬𝔣𝔣 𝔟𝔯𝔞𝔦𝔫 \n",
       "𝔦𝔫𝔣𝔬𝔯𝔪𝔞𝔱𝔦𝔬𝔫 𝔰𝔱𝔬𝔯𝔞𝔤𝔢 𝔰𝔦𝔫𝔠𝔢 𝔣𝔬𝔯𝔢𝔳𝔢𝔯. 𝔗𝔥𝔦𝔰 𝔦𝔰 𝔰𝔱𝔬𝔯𝔞𝔤𝔢 𝔣𝔬𝔯 𝔟𝔬𝔬𝔨𝔰 𝔡𝔬𝔫𝔢 𝔴𝔦𝔱𝔥 𝔥𝔢𝔩𝔭 𝔬𝔣 𝔪𝔞𝔠𝔥𝔦𝔫𝔢 𝔩𝔢𝔞𝔯𝔫𝔦𝔫𝔤 𝔞𝔫𝔡 ﷻاللَّٰه𝕲𝖔𝖉<br>﷽ℐ𝓃 𝒩𝒶𝓂ℯ 𝒪𝒻 ﷻاللَّٰه𝕲𝖔𝖉. 𝔏ɪʙʀᴀʀʏ 𝔬𝔣 ℋ𝓊𝓂𝒶𝓃 𝔖ᴄɪᴇɴᴄᴇ 𝔞𝔫𝔡 𝔗𝔯𝔲𝔢 𝔗𝔯𝔞𝔫𝔰𝔩𝔞𝔱𝔦𝔬𝔫𝔰 𝔬𝔣 \n",
       "ℌᴏʟʏ 𝔔ᴜʀᴀɴ. 𝔗𝔥𝔬𝔰𝔢 𝔯𝔢𝔞𝔡𝔦𝔫𝔤 𝔟𝔢𝔩𝔬𝔴 𝔱𝔥𝔬𝔰𝔢 𝔩𝔦𝔫𝔢𝔰 𝔴𝔬𝔯𝔰𝔥𝔦𝔭 𝔬𝔫𝔩𝔶 ﷻاللَّٰه𝕲𝖔𝖉 𝔬𝔣\n",
       "ﷺآدَم𝕬𝖉𝖆𝖒, ﷺنُوح𝕹𝖔𝖆𝖍, ﷺإِبْرَاهِيم𝕬𝖇𝖗𝖆𝖍𝖆𝖒, ﷺمُوسَىٰ𝕸𝖔𝖘𝖊𝖘, ﷺعِيسَىٰ𝕵𝖊𝖘𝖚𝖘, ﷺمُحَمَّد𝕸𝖔𝖍𝖆𝖒𝖒𝖆𝖉<br>﷽𝔅𝔶 𝔲𝔰𝔦𝔫𝔤, 𝔯𝔢𝔠𝔢𝔦𝔳𝔦𝔫𝔤, 𝔡𝔦𝔰𝔱𝔯𝔦𝔟𝔲𝔱𝔦𝔫𝔤, 𝔢𝔵𝔞𝔪𝔦𝔫𝔦𝔫𝔦𝔫𝔤 𝔬𝔣 𝔱𝔥𝔦𝔰 𝔰𝔬𝔣𝔱𝔴𝔞𝔯𝔢, \n",
       "𝓈𝓁𝒶𝓋ℯ 𝔬𝔣 ﷻاللَّٰه𝕲𝖔𝖉 𝔴𝔥𝔬 𝔡𝔬𝔢𝔰 𝔠𝔢𝔯𝔱𝔦𝔣𝔦𝔢𝔰 𝔱𝔥𝔞𝔱:\n",
       " 𝔥𝔢 𝔬𝔯 𝔰𝔥𝔢 𝔦𝔰 ℋ𝓊𝓂𝒶𝓃,\n",
       " 𝔦𝔰𝔫'𝔱, 𝔴𝔞𝔰𝔫'𝔱, 𝔴𝔦𝔩𝔩 𝔫𝔬𝔱 𝔟𝔢 𝔞𝔫 𝔢𝔪𝔭𝔩𝔬𝔶𝔢𝔢 𝔬𝔣 𝔱𝔥𝔢 𝔞𝔫𝔶 𝑛𝑎𝑡𝑖𝑜𝑛 𝑠𝑡𝑎𝑡𝑒 𝔞𝔤𝔢𝔫𝔠𝔶, 𝔦𝔫𝔠𝔩𝔲𝔡𝔦𝔫𝔤 \n",
       "         𝑎𝑟𝑚𝑦 𝔞𝔫𝔡 𝑙𝑎𝑤 𝑒𝑛𝑓𝑜𝑟𝑐𝑒𝑚𝑒𝑛𝑡\n",
       " 𝔦𝔰𝔫'𝔱, 𝔴𝔦𝔩𝔩 𝔫𝔬𝔱 𝔟𝔢 𝔞𝔫 𝔢𝔪𝔭𝔩𝔬𝔶𝔢𝔢 𝔬𝔣 𝔞𝔫𝔶 𝔠𝔬𝔯𝔭𝔬𝔯𝔞𝔱𝔦𝔬𝔫 𝔬𝔯 𝔬𝔱𝔥𝔢𝔯 𝔢𝔫𝔱𝔦𝔱𝔶, 𝔦𝔫𝔠𝔩𝔲𝔡𝔦𝔫𝔤\n",
       "         𝔰𝔬𝔩𝔢 𝔭𝔯𝔬𝔭𝔯𝔦𝔢𝔱𝔬𝔯𝔰, 𝔦𝔫 𝔦𝔫𝔡𝔲𝔰𝔱𝔯𝔦𝔢𝔰 𝔯𝔢𝔩𝔞𝔱𝔢𝔡 𝔱𝔬:\n",
       "         𝑙𝑎𝑤, 𝑓𝑖𝑛𝑎𝑛𝑐𝑒, 𝑖𝑛𝑡𝑒𝑙𝑙𝑒𝑐𝑡𝑢𝑎𝑙 𝑝𝑟𝑜𝑝𝑒𝑟𝑡𝑦\n",
       "             𝔪𝔞𝔫𝔞𝔤𝔢𝔪𝔢𝔫𝔱, 𝔡𝔦𝔰𝔱𝔯𝔦𝔟𝔲𝔱𝔦𝔬𝔫 𝔬𝔯 𝔠𝔯𝔢𝔞𝔱𝔦𝔬𝔫\n",
       " \n",
       " </p>"
      ],
      "text/plain": [
       "<IPython.core.display.HTML object>"
      ]
     },
     "metadata": {},
     "output_type": "display_data"
    }
   ],
   "source": [
    "INTRO_RITES = \"\"\"\n",
    "\n",
    "﷽Human civilization have been struggled with memorization vs off brain \n",
    "information storage since forever. This is storage for books done with help of machine learning and ﷻاللَّٰهGod\n",
    "\n",
    "﷽In Name Of ﷻاللَّٰهGod. Library of Human Science and True Translations of \n",
    "Holy Quran. Those reading below those lines worship only ﷻاللَّٰهGod of\n",
    "ﷺآدَمAdam, ﷺنُوحNoah, ﷺإِبْرَاهِيمAbraham, ﷺمُوسَىٰMoses, ﷺعِيسَىٰJesus, ﷺمُحَمَّدMohammad\n",
    "\n",
    "﷽By using, receiving, distributing, examinining of this software, \n",
    "slave of ﷻاللَّٰهGod who does certifies that:\n",
    " he or she is Human,\n",
    " isn't, wasn't, will not be an employee of the any nation state agency, including \n",
    "         army and law enforcement\n",
    " isn't, will not be an employee of any corporation or other entity, including\n",
    "         sole proprietors, in industries related to:\n",
    "         law, finance, intellectual property\n",
    "             management, distribution or creation\n",
    " \n",
    " \"\"\"\n",
    "\n",
    "from IPython.display import display, Markdown, Latex, HTML\n",
    "\n",
    "for word in [\"Adam\", \"Noah\", \"Abraham\", \"Moses\", \"Jesus\", \"Mohammad\", \"God\"]:\n",
    "    INTRO_RITES = INTRO_RITES.replace(word, Fonts.bold_gothic(word))\n",
    "    \n",
    "for word in [\"Human\", \"In Name Of\", \"slave\"]:\n",
    "    INTRO_RITES = INTRO_RITES.replace(word, Fonts.script(word))\n",
    "\n",
    "for word in [\"Holy Quran\", \"Library\", \"Science\"]:\n",
    "    INTRO_RITES = INTRO_RITES.replace(word, Fonts.smallcap(word))\n",
    "\n",
    "for word in [ \"law enforcement\", \"law\", \"finance\", \"intellectual property\", \"nation state\", \"army\"]:\n",
    "    INTRO_RITES = INTRO_RITES.replace(word, Fonts.cool(word))\n",
    "\n",
    "INTRO_RITES = Fonts.gothic(INTRO_RITES)\n",
    "INTRO_RITES = INTRO_RITES.replace(\"\\n\\n\", \"<br>\")\n",
    "\n",
    "display(HTML(f'<p style=\"font-size: 6px\">{INTRO_RITES}</p>'))\n",
    "\n"
   ]
  },
  {
   "cell_type": "code",
   "execution_count": null,
   "id": "f1ddc1f5-0dd8-4849-b8e1-1241e42dafe7",
   "metadata": {},
   "outputs": [],
   "source": [
    "%%capture\n",
    "\n",
    "!echo $PATH\n",
    "!conda --version\n",
    "!pip --version\n",
    "\n",
    "%env INTRO_RITES_READ=1"
   ]
  }
 ],
 "metadata": {
  "kernelspec": {
   "display_name": "Python 3 (ipykernel)",
   "language": "python",
   "name": "python3"
  },
  "language_info": {
   "codemirror_mode": {
    "name": "ipython",
    "version": 3
   },
   "file_extension": ".py",
   "mimetype": "text/x-python",
   "name": "python",
   "nbconvert_exporter": "python",
   "pygments_lexer": "ipython3",
   "version": "3.9.12"
  }
 },
 "nbformat": 4,
 "nbformat_minor": 5
}
