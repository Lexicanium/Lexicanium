{
 "cells": [
  {
   "cell_type": "code",
   "execution_count": null,
   "id": "8a943c01-b259-445e-adac-ea0ec01af165",
   "metadata": {},
   "outputs": [],
   "source": [
    "﷽Human civilization have been struggled with memorization vs off brain information storage since forever. This is storage for books done with help of machine learning and ﷻاللَّٰهGod\n",
    "\n",
    "﷽In Name Of ﷻاللَّٰهGod. Library of Human Science and True Translations of Holy Quran. Those reading below those lines worship only ﷻاللَّٰهGod of ﷺآدَمAdam, ﷺنُوحNoah, ﷺإِبْرَاهِيمAbraham, ﷺمُوسَىٰMoses, ﷺعِيسَىٰJesus, ﷺمُحَمَّدMohammad\n",
    "\n",
    "﷽By using, receiving, distributing, examinining of this software, slave of ﷻاللَّٰهGod who does certifies that:\n",
    "\n",
    " - he or she is Human\n",
    " - isn't, wasn't, will not be an employee of the any nation state agency, including army and law enforcement\n",
    " - isn't, will not be an employee of any corporation or other entity, including sole proprietors, in industries related to: law, finance, intellectual property management, distribution or creation\n",
    " \n"
   ]
  },
  {
   "cell_type": "code",
   "execution_count": 6,
   "id": "f1ddc1f5-0dd8-4849-b8e1-1241e42dafe7",
   "metadata": {},
   "outputs": [],
   "source": [
    "%%capture\n",
    "\n",
    "!echo $PATH\n",
    "!conda --version\n",
    "!pip --version\n",
    "\n",
    "%env INTRO_RITES_READ=1"
   ]
  }
 ],
 "metadata": {
  "kernelspec": {
   "display_name": "Python 3 (ipykernel)",
   "language": "python",
   "name": "python3"
  },
  "language_info": {
   "codemirror_mode": {
    "name": "ipython",
    "version": 3
   },
   "file_extension": ".py",
   "mimetype": "text/x-python",
   "name": "python",
   "nbconvert_exporter": "python",
   "pygments_lexer": "ipython3",
   "version": "3.9.12"
  }
 },
 "nbformat": 4,
 "nbformat_minor": 5
}
