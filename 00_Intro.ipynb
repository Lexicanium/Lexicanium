{
 "cells": [
  {
   "cell_type": "code",
   "execution_count": 8,
   "id": "8a943c01-b259-445e-adac-ea0ec01af165",
   "metadata": {},
   "outputs": [
    {
     "data": {
      "text/markdown": [
       "\n",
       "\n",
       "﷽Human civilization have been struggled with memorization vs off brain \n",
       "information storage since forever. This is storage for books done with help of machine learning and ﷻاللَّٰهGod\n",
       "\n",
       "﷽In Name Of ﷻاللَّٰهGod. Library of Human Science and True Translations of \n",
       "Holy Quran. Those reading below those lines worship only ﷻاللَّٰهGod of\n",
       "ﷺآدَمAdam, ﷺنُوحNoah, ﷺإِبْرَاهِيمAbraham, ﷺمُوسَىٰMoses, ﷺعِيسَىٰJesus, ﷺمُحَمَّدMohammad\n",
       "\n",
       "﷽By using, receiving, distributing, examinining of this software, \n",
       "slave of ﷻاللَّٰهGod who does certifies that:\n",
       "\n",
       " - he or she is Human\n",
       " - isn't, wasn't, will not be an employee of the any nation state agency, including \n",
       "         army and law enforcement\n",
       " - isn't, will not be an employee of any corporation or other entity, including\n",
       "         sole proprietors, in industries related to:\n",
       "         law, finance, intellectual property\n",
       "             management, distribution or creation\n",
       " \n",
       " "
      ],
      "text/plain": [
       "<IPython.core.display.Markdown object>"
      ]
     },
     "metadata": {},
     "output_type": "display_data"
    }
   ],
   "source": [
    "INTRO_RITES = \"\"\"\n",
    "\n",
    "﷽Human civilization have been struggled with memorization vs off brain \n",
    "information storage since forever. This is storage for books done with help of machine learning and ﷻاللَّٰهGod\n",
    "\n",
    "﷽In Name Of ﷻاللَّٰهGod. Library of Human Science and True Translations of \n",
    "Holy Quran. Those reading below those lines worship only ﷻاللَّٰهGod of\n",
    "ﷺآدَمAdam, ﷺنُوحNoah, ﷺإِبْرَاهِيمAbraham, ﷺمُوسَىٰMoses, ﷺعِيسَىٰJesus, ﷺمُحَمَّدMohammad\n",
    "\n",
    "﷽By using, receiving, distributing, examinining of this software, \n",
    "slave of ﷻاللَّٰهGod who does certifies that:\n",
    "\n",
    " - he or she is Human\n",
    " - isn't, wasn't, will not be an employee of the any nation state agency, including \n",
    "         army and law enforcement\n",
    " - isn't, will not be an employee of any corporation or other entity, including\n",
    "         sole proprietors, in industries related to:\n",
    "         law, finance, intellectual property\n",
    "             management, distribution or creation\n",
    " \n",
    " \"\"\"\n",
    "\n",
    "from IPython.display import display, Markdown, Latex\n",
    "\n",
    "display(Markdown(INTRO_RITES))"
   ]
  },
  {
   "cell_type": "code",
   "execution_count": 6,
   "id": "f1ddc1f5-0dd8-4849-b8e1-1241e42dafe7",
   "metadata": {},
   "outputs": [],
   "source": [
    "%%capture\n",
    "\n",
    "!echo $PATH\n",
    "!conda --version\n",
    "!pip --version\n",
    "\n",
    "%env INTRO_RITES_READ=1"
   ]
  },
  {
   "cell_type": "code",
   "execution_count": 9,
   "id": "ba771bb3-48b2-402d-8a15-d57c6cc6fead",
   "metadata": {},
   "outputs": [
    {
     "data": {
      "text/plain": [
       "\"\\n        InlineKeyboardButton('𝚃𝚢𝚙𝚎𝚠𝚛𝚒𝚝𝚎𝚛', callback_data='style+typewriter'),\\n        InlineKeyboardButton('𝕆𝕦𝕥𝕝𝕚𝕟𝕖', callback_data='style+outline'),\\n        InlineKeyboardButton('𝐒𝐞𝐫𝐢𝐟', callback_data='style+serif'),\\n        ],[\\n        InlineKeyboardButton('𝑺𝒆𝒓𝒊𝒇', callback_data='style+bold_cool'),\\n        InlineKeyboardButton('𝑆𝑒𝑟𝑖𝑓', callback_data='style+cool'),\\n        InlineKeyboardButton('Sᴍᴀʟʟ Cᴀᴘs', callback_data='style+small_cap'),\\n        ],[\\n        InlineKeyboardButton('𝓈𝒸𝓇𝒾𝓅𝓉', callback_data='style+script'),\\n        InlineKeyboardButton('𝓼𝓬𝓻𝓲𝓹𝓽', callback_data='style+script_bolt'),\\n        InlineKeyboardButton('ᵗⁱⁿʸ', callback_data='style+tiny'),\\n        ],[\\n        InlineKeyboardButton('ᑕOᗰIᑕ', callback_data='style+comic'),\\n        InlineKeyboardButton('𝗦𝗮𝗻𝘀', callback_data='style+sans'),\\n        InlineKeyboardButton('𝙎𝙖𝙣𝙨', callback_data='style+slant_sans'),\\n        ],[\\n        InlineKeyboardButton('𝘚𝘢𝘯𝘴', callback_data='style+slant'),\\n        InlineKeyboardButton('𝖲𝖺𝗇𝗌', callback_data='style+sim'),\\n         InlineKeyboardButton('Ⓒ︎Ⓘ︎Ⓡ︎Ⓒ︎Ⓛ︎Ⓔ︎Ⓢ︎', callback_data='style+circles'),\\n        ],[\\n        InlineKeyboardButton('🅒︎🅘︎🅡︎🅒︎🅛︎🅔︎🅢︎', callback_data='style+circle_dark'),\\n        InlineKeyboardButton('𝔊𝔬𝔱𝔥𝔦𝔠', callback_data='style+gothic'),\\n        InlineKeyboardButton('𝕲𝖔𝖙𝖍𝖎𝖈', callback_data='style+gothic_bolt'),\\n        ],[\\n        InlineKeyboardButton('C͜͡l͜͡o͜͡u͜͡d͜͡s͜͡', callback_data='style+cloud'),\\n        InlineKeyboardButton('H̆̈ă̈p̆̈p̆̈y̆̈', callback_data='style+happy'),\\n        InlineKeyboardButton('S̑̈ȃ̈d̑̈', callback_data='style+sad'),\\n        \\n        \""
      ]
     },
     "execution_count": 9,
     "metadata": {},
     "output_type": "execute_result"
    }
   ],
   "source": [
    "\"\"\"\n",
    "        InlineKeyboardButton('𝚃𝚢𝚙𝚎𝚠𝚛𝚒𝚝𝚎𝚛', callback_data='style+typewriter'),\n",
    "        InlineKeyboardButton('𝕆𝕦𝕥𝕝𝕚𝕟𝕖', callback_data='style+outline'),\n",
    "        InlineKeyboardButton('𝐒𝐞𝐫𝐢𝐟', callback_data='style+serif'),\n",
    "        ],[\n",
    "        InlineKeyboardButton('𝑺𝒆𝒓𝒊𝒇', callback_data='style+bold_cool'),\n",
    "        InlineKeyboardButton('𝑆𝑒𝑟𝑖𝑓', callback_data='style+cool'),\n",
    "        InlineKeyboardButton('Sᴍᴀʟʟ Cᴀᴘs', callback_data='style+small_cap'),\n",
    "        ],[\n",
    "        InlineKeyboardButton('𝓈𝒸𝓇𝒾𝓅𝓉', callback_data='style+script'),\n",
    "        InlineKeyboardButton('𝓼𝓬𝓻𝓲𝓹𝓽', callback_data='style+script_bolt'),\n",
    "        InlineKeyboardButton('ᵗⁱⁿʸ', callback_data='style+tiny'),\n",
    "        ],[\n",
    "        InlineKeyboardButton('ᑕOᗰIᑕ', callback_data='style+comic'),\n",
    "        InlineKeyboardButton('𝗦𝗮𝗻𝘀', callback_data='style+sans'),\n",
    "        InlineKeyboardButton('𝙎𝙖𝙣𝙨', callback_data='style+slant_sans'),\n",
    "        ],[\n",
    "        InlineKeyboardButton('𝘚𝘢𝘯𝘴', callback_data='style+slant'),\n",
    "        InlineKeyboardButton('𝖲𝖺𝗇𝗌', callback_data='style+sim'),\n",
    "         InlineKeyboardButton('Ⓒ︎Ⓘ︎Ⓡ︎Ⓒ︎Ⓛ︎Ⓔ︎Ⓢ︎', callback_data='style+circles'),\n",
    "        ],[\n",
    "        InlineKeyboardButton('🅒︎🅘︎🅡︎🅒︎🅛︎🅔︎🅢︎', callback_data='style+circle_dark'),\n",
    "        InlineKeyboardButton('𝔊𝔬𝔱𝔥𝔦𝔠', callback_data='style+gothic'),\n",
    "        InlineKeyboardButton('𝕲𝖔𝖙𝖍𝖎𝖈', callback_data='style+gothic_bolt'),\n",
    "        ],[\n",
    "        InlineKeyboardButton('C͜͡l͜͡o͜͡u͜͡d͜͡s͜͡', callback_data='style+cloud'),\n",
    "        InlineKeyboardButton('H̆̈ă̈p̆̈p̆̈y̆̈', callback_data='style+happy'),\n",
    "        InlineKeyboardButton('S̑̈ȃ̈d̑̈', callback_data='style+sad'),\n",
    "        \n",
    "        \"\"\""
   ]
  }
 ],
 "metadata": {
  "kernelspec": {
   "display_name": "Python 3 (ipykernel)",
   "language": "python",
   "name": "python3"
  },
  "language_info": {
   "codemirror_mode": {
    "name": "ipython",
    "version": 3
   },
   "file_extension": ".py",
   "mimetype": "text/x-python",
   "name": "python",
   "nbconvert_exporter": "python",
   "pygments_lexer": "ipython3",
   "version": "3.9.12"
  }
 },
 "nbformat": 4,
 "nbformat_minor": 5
}
