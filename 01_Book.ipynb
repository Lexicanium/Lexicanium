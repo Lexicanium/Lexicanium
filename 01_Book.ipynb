{
 "cells": [
  {
   "cell_type": "markdown",
   "id": "37237a11",
   "metadata": {},
   "source": [
    "load text in arabic"
   ]
  },
  {
   "cell_type": "code",
   "execution_count": 11,
   "id": "1ffdf7b7",
   "metadata": {},
   "outputs": [
    {
     "name": "stdout",
     "output_type": "stream",
     "text": [
      "Cloning into 'quran-api'...\n",
      "fatal: cannot change to 'https://github.com/fawazahmed0/quran-api.git': No such file or directory\n",
      "error: failed to initialize sparse-checkout\n",
      "[Errno 2] No such file or directory: 'quran-api'\n",
      "/home/standard/Notebooks\n",
      "fatal: not a git repository (or any of the parent directories): .git\n",
      "fatal: not a git repository (or any of the parent directories): .git\n"
     ]
    }
   ],
   "source": [
    "!git clone --filter=blob:none --no-checkout --depth 1  --sparse  https://github.com/fawazahmed0/quran-api.git\n",
    "%cd quran-api\n",
    "!git sparse-checkout add database/linebyline/* database/chapterverse/* fonts/*\n",
    "!git checkout"
   ]
  },
  {
   "cell_type": "code",
   "execution_count": null,
   "id": "cb0cf883",
   "metadata": {},
   "outputs": [],
   "source": [
    "https://github.com/fawazahmed0/quran-videos"
   ]
  },
  {
   "cell_type": "markdown",
   "id": "2cabad39",
   "metadata": {},
   "source": [
    "## Good\n",
    "\n",
    "get english russian and arabic editions / pronouncication from quran api\n",
    "\n",
    "take one ayat from all of them\n",
    "\n",
    "perform lingustic annotation on all languages\n",
    "\n",
    "\n",
    "generate translation rephrasing translations to fit under arabic text / mirror it\n",
    "\n",
    "named entity recognition (bird book 88) - table replacement for proper traditional names jn target language \n",
    "\n",
    "constituency tre, phrase structrure tree\n",
    " (tree book page 71)\n"
   ]
  },
  {
   "cell_type": "code",
   "execution_count": null,
   "id": "d071758c",
   "metadata": {},
   "outputs": [],
   "source": [
    "Get the whole quran/quran translation:\n",
    "https://cdn.jsdelivr.net/gh/fawazahmed0/quran-api@1/editions/ben-muhiuddinkhan.json \n",
    "Get a latin(roman) script version of it by adding -la:\n",
    "https://cdn.jsdelivr.net/gh/fawazahmed0/quran-api@1/editions/ben-muhiuddinkhan-la.json\n",
    "Get a latin(roman) script with diacritical marks by adding -lad:\n",
    "https://cdn.jsdelivr.net/gh/fawazahmed0/quran-api@1/editions/ben-muhiuddinkhan-lad.json\n",
    "    \n",
    "    "
   ]
  },
  {
   "cell_type": "code",
   "execution_count": null,
   "id": "9c0b6098",
   "metadata": {},
   "outputs": [],
   "source": [
    "https://www.kaggle.com/datasets/zusmani/the-holy-quran\n",
    "    "
   ]
  },
  {
   "cell_type": "markdown",
   "id": "b3b7f479",
   "metadata": {},
   "source": [
    " - loading removing tashkil\n",
    "https://www.kaggle.com/code/mohammadqahtani/the-holy-quran-arabic\n",
    "\n",
    "\n",
    " - pipe delimiter loader\n",
    " https://www.kaggle.com/code/sohier/function-for-formatting-the-text-reading-the-files"
   ]
  },
  {
   "cell_type": "markdown",
   "id": "8f95b4e9",
   "metadata": {},
   "source": [
    "load translations, take russian and english ones"
   ]
  },
  {
   "cell_type": "markdown",
   "id": "73f18d3c",
   "metadata": {},
   "source": [
    "map translations with original word by word"
   ]
  },
  {
   "cell_type": "markdown",
   "id": "7316ea45",
   "metadata": {},
   "source": [
    "output as tetra book: arabic/prononcication international phonetic monospaced narrow engish gothic monospaced/cyrillic proportional rodchenko background print"
   ]
  },
  {
   "cell_type": "markdown",
   "id": "bc82f56b",
   "metadata": {},
   "source": [
    "  - arabic fonts ! https://cdn.jsdelivr.net/gh/fawazahmed0/quran-api@1/fonts.json"
   ]
  },
  {
   "cell_type": "markdown",
   "id": "6ea85541",
   "metadata": {},
   "source": [
    "start with html output using divs using the browsers floating \n",
    "\n",
    "start with one ayat in html table, four underlines, picking fonts\n",
    "\n",
    "add audio\n",
    "add russian phobetics"
   ]
  },
  {
   "cell_type": "markdown",
   "id": "8ae16351",
   "metadata": {},
   "source": [
    "https://stackoverflow.com/questions/73328529/how-to-format-ltr-per-word-translation-under-rtl-text"
   ]
  },
  {
   "cell_type": "markdown",
   "id": "2539f9d0",
   "metadata": {},
   "source": [
    "tex write word in another word\n",
    "\n",
    "\n",
    "I’m trying to format underline translation (word under word) using TeX. How to do that?\n",
    "https://tex.stackexchange.com/questions/278720/writing-a-word-with-the-length-of-another-word\n",
    "\n",
    "https://tex.stackexchange.com/questions/653771/tex-position-word-underneath-another-word-in-the-paragraph\n",
    "\n",
    "\n",
    "copy and test in thjs notebook via latex output fonts: \n",
    "arabic\n",
    "gothics\n",
    "russian\n",
    "monospace\n",
    "\n",
    "a cover with qr codes - links to quran and hadiths datasets. hash of url is used to generate the color of code"
   ]
  },
  {
   "cell_type": "code",
   "execution_count": null,
   "id": "b3a49106",
   "metadata": {},
   "outputs": [],
   "source": [
    "make user interface for picking alternate word translations in regeneratable viewable in fhe web book, controlled from browser"
   ]
  },
  {
   "cell_type": "markdown",
   "id": "c328d80f",
   "metadata": {},
   "source": [
    "%%latex\n",
    "\n",
    "\\documentclass[12pt]{article}\n",
    "\\pagestyle{plain}\n",
    "\\usepackage[margin=1.8cm]{geometry}\n",
    "\\geometry{a4paper}\n",
    "\\usepackage[parfill]{parskip}\n",
    "\\usepackage{amsmath}\n",
    "\\usepackage{amssymb}\n",
    "\\usepackage{graphicx}\n",
    "\n",
    "\\begin{document}\n",
    "\n",
    "\\newlength{\\longword}\n",
    "\\settowidth{\\longword}{\\textbf{LONGERTEXT}}\n",
    "\n",
    "\\resizebox{\\longword}{!}{\\textbf{TEXT}} \\\\\n",
    "\\textbf{LONGERTEXT} \\\\\n",
    "\\textbf{TEXT}\n",
    "\n",
    "\\end{document}\n"
   ]
  },
  {
   "cell_type": "raw",
   "id": "7a3b051d",
   "metadata": {},
   "source": [
    "%%latex\n",
    "\n",
    "\n",
    "\\usepackage{amsmath}\n",
    "\\usepackage{amssymb}\n",
    "\\usepackage{graphicx}\n",
    "\n",
    "\n",
    "\n",
    "\\newlength{\\longword}\n",
    "\\settowidth{\\longword}{\\textbf{LONGERTEXT}}\n",
    "\n",
    "\\resizebox{\\longword}{!}{\\textbf{TEXT}} \\\\\n",
    "\\textbf{LONGERTEXT} \\\\\n",
    "\\textbf{TEXT}\n",
    "\n",
    "\n"
   ]
  },
  {
   "cell_type": "markdown",
   "id": "6fbfd316",
   "metadata": {},
   "source": [
    "$$\n",
    "\n",
    "\\sin(-\\alpha)=-\\sin(\\alpha)\\\\\n",
    "\n",
    "\\arccos(x)=\\arcsin(u)\\\\\n",
    "\n",
    "\\log_n(n)=1\\\\\n",
    "\n",
    "\\tan(x) = \\frac{\\sin(x)}{\\cos(x)}\n",
    "\n",
    "$$"
   ]
  },
  {
   "cell_type": "code",
   "execution_count": null,
   "id": "e0af8c81",
   "metadata": {},
   "outputs": [],
   "source": [
    "!$HOME/miniconda3/bin/conda install -y matplotlib"
   ]
  },
  {
   "cell_type": "code",
   "execution_count": null,
   "id": "3c611e47",
   "metadata": {},
   "outputs": [],
   "source": []
  },
  {
   "cell_type": "code",
   "execution_count": null,
   "id": "e33a5b31",
   "metadata": {},
   "outputs": [],
   "source": [
    "L = \"\"\"\n",
    "\n",
    "\\sin(-\\alpha)=-\\sin(\\alpha)\\\\\n",
    "\n",
    "\\arccos(x)=\\arcsin(u)\\\\\n",
    "\n",
    "\\log_n(n)=1\\\\\n",
    "\n",
    "\\tan(x) = \\frac{\\sin(x)}{\\cos(x)}\n",
    "\n",
    "\n",
    "\"\"\""
   ]
  },
  {
   "cell_type": "code",
   "execution_count": null,
   "id": "0cec10e3",
   "metadata": {},
   "outputs": [],
   "source": [
    "from IPython.display import display, Math, Tex\n",
    "display(Tex(L))"
   ]
  },
  {
   "cell_type": "code",
   "execution_count": null,
   "id": "e992d0d3",
   "metadata": {},
   "outputs": [],
   "source": [
    "import numpy as np\n",
    "import matplotlib.pyplot as plt\n",
    "\n",
    "plt.rcParams['text.usetex'] = True\n",
    "\n",
    "\n",
    "t = np.linspace(0.0, 1.0, 100)\n",
    "s = np.cos(4 * np.pi * t) + 2\n",
    "\n",
    "fig, ax = plt.subplots(figsize=(6, 4), tight_layout=True)\n",
    "ax.plot(t, s)\n",
    "\n",
    "ax.set_xlabel(r'\\textbf{time (s)}')\n",
    "ax.set_ylabel('\\\\textit{Velocity (\\N{DEGREE SIGN}/sec)}', fontsize=16)\n",
    "ax.set_title(r'\\TeX\\ is Number $\\displaystyle\\sum_{n=1}^\\infty'\n",
    "             r'\\frac{-e^{i\\pi}}{2^n}$!', fontsize=16, color='r')"
   ]
  },
  {
   "cell_type": "code",
   "execution_count": null,
   "id": "84f3abb8",
   "metadata": {},
   "outputs": [],
   "source": [
    "# works with Python3\n",
    "import os\n",
    "import platform\n",
    "import subprocess\n",
    "\n",
    "# TeX source filename\n",
    "tex_filename = 'my_doc.tex'\n",
    "filename, ext = os.path.splitext(tex_filename)\n",
    "# the corresponding PDF filename\n",
    "pdf_filename = filename + '.pdf'\n",
    "\n",
    "# compile TeX file\n",
    "subprocess.run(['pdflatex', '-interaction=nonstopmode', tex_filename])\n",
    "\n",
    "# check if PDF is successfully generated\n",
    "if not os.path.exists(pdf_filename):\n",
    "    raise RuntimeError('PDF output not found')\n",
    "\n",
    "# open PDF with platform-specific command\n",
    "if platform.system().lower() == 'darwin':\n",
    "    subprocess.run(['open', pdf_filename])\n",
    "elif platform.system().lower() == 'windows':\n",
    "    os.startfile(pdf_filename)\n",
    "elif platform.system().lower() == 'linux':\n",
    "    subprocess.run(['xdg-open', pdf_filename])\n",
    "else:\n",
    "    raise RuntimeError('Unknown operating system \"{}\"'.format(platform.system()))"
   ]
  },
  {
   "cell_type": "code",
   "execution_count": null,
   "id": "f371d715",
   "metadata": {},
   "outputs": [],
   "source": [
    "#display this pdf inline with ipython display"
   ]
  },
  {
   "cell_type": "markdown",
   "id": "4e694a85",
   "metadata": {},
   "source": [
    "International Journal on Islamic Applications in Computer Science And Technology, Vol. 9, Issue 1, March 2021, 1-9"
   ]
  },
  {
   "cell_type": "markdown",
   "id": "f663f2d8",
   "metadata": {},
   "source": [
    "##audio datasets \n",
    " - many readers unlabeled text https://www.kaggle.com/code/annealdahi/starter-quran-recitation-a71f7348-8/data?select=QDAT_Quran+Recitation.csv\n",
    "        \n",
    " - labeled text https://www.kaggle.com/competitions/quran-asr-challenge/data?select=train_transcriptions.csv\n",
    "   - convert to MP3    https://www.kaggle.com/code/tareksherif/easy-way-to-convert-mp3-to-wav\n",
    "   - speech to text\n",
    " https://www.kaggle.com/code/ashrafeed/quran-speech-to-text\n",
    "    \n",
    "    \n",
    "    "
   ]
  }
 ],
 "metadata": {
  "kernelspec": {
   "display_name": "Python 3 (ipykernel)",
   "language": "python",
   "name": "python3"
  },
  "language_info": {
   "codemirror_mode": {
    "name": "ipython",
    "version": 3
   },
   "file_extension": ".py",
   "mimetype": "text/x-python",
   "name": "python",
   "nbconvert_exporter": "python",
   "pygments_lexer": "ipython3",
   "version": "3.9.12"
  }
 },
 "nbformat": 4,
 "nbformat_minor": 5
}
