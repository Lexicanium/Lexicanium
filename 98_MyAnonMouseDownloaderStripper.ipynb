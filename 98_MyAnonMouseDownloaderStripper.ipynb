{
 "cells": [
  {
   "cell_type": "markdown",
   "id": "a421989e",
   "metadata": {},
   "source": [
    "Downloads from myanonmouse, ocrs, strips out the contents of the book leaving bibliography and indexes and contents"
   ]
  }
 ],
 "metadata": {
  "kernelspec": {
   "display_name": "Python 3 (ipykernel)",
   "language": "python",
   "name": "python3"
  },
  "language_info": {
   "codemirror_mode": {
    "name": "ipython",
    "version": 3
   },
   "file_extension": ".py",
   "mimetype": "text/x-python",
   "name": "python",
   "nbconvert_exporter": "python",
   "pygments_lexer": "ipython3",
   "version": "3.9.12"
  }
 },
 "nbformat": 4,
 "nbformat_minor": 5
}
