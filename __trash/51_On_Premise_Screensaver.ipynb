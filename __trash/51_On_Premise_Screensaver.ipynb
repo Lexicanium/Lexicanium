{
 "cells": [
  {
   "cell_type": "markdown",
   "id": "33dfbecf",
   "metadata": {},
   "source": [
    "a screensaver with pretty book figures and qr codes on the book webpages. web pages in the end have on premise installation command that downloads only book and its topic"
   ]
  }
 ],
 "metadata": {
  "kernelspec": {
   "display_name": "Python 3 (ipykernel)",
   "language": "python",
   "name": "python3"
  },
  "language_info": {
   "codemirror_mode": {
    "name": "ipython",
    "version": 3
   },
   "file_extension": ".py",
   "mimetype": "text/x-python",
   "name": "python",
   "nbconvert_exporter": "python",
   "pygments_lexer": "ipython3",
   "version": "3.9.13"
  }
 },
 "nbformat": 4,
 "nbformat_minor": 5
}
