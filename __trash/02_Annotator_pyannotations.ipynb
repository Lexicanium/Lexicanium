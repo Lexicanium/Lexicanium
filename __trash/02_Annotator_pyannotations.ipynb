{
 "cells": [
  {
   "cell_type": "code",
   "execution_count": null,
   "id": "8c7ae6e9-daf9-4b6a-b83d-d2f5aa7fdd01",
   "metadata": {},
   "outputs": [],
   "source": [
    "https://github.com/janfreyberg/ipyannotations"
   ]
  },
  {
   "cell_type": "code",
   "execution_count": 1,
   "id": "843416f9-f3b7-4ed2-b636-4337be951536",
   "metadata": {},
   "outputs": [
    {
     "name": "stdout",
     "output_type": "stream",
     "text": [
      "Collecting ipyannotations\n",
      "  Downloading ipyannotations-0.4.1-py2.py3-none-any.whl (63 kB)\n",
      "\u001b[K     |████████████████████████████████| 63 kB 3.1 MB/s eta 0:00:011\n",
      "\u001b[?25hRequirement already satisfied: requests in /home/standard/miniconda3/lib/python3.9/site-packages (from ipyannotations) (2.27.1)\n",
      "Collecting ipycanvas\n",
      "  Downloading ipycanvas-0.12.0-py2.py3-none-any.whl (256 kB)\n",
      "\u001b[K     |████████████████████████████████| 256 kB 1.6 MB/s eta 0:00:01\n",
      "\u001b[?25hCollecting ipywidgets>=7.0.0\n",
      "  Downloading ipywidgets-7.7.1-py2.py3-none-any.whl (123 kB)\n",
      "\u001b[K     |████████████████████████████████| 123 kB 9.8 MB/s eta 0:00:01\n",
      "\u001b[?25hCollecting ipyevents\n",
      "  Downloading ipyevents-2.0.1-py2.py3-none-any.whl (130 kB)\n",
      "\u001b[K     |████████████████████████████████| 130 kB 5.6 MB/s eta 0:00:01\n",
      "\u001b[?25hRequirement already satisfied: numpy in /home/standard/miniconda3/lib/python3.9/site-packages (from ipyannotations) (1.21.5)\n",
      "Collecting palettable\n",
      "  Downloading palettable-3.3.0-py2.py3-none-any.whl (111 kB)\n",
      "\u001b[K     |████████████████████████████████| 111 kB 9.2 MB/s eta 0:00:01\n",
      "\u001b[?25hRequirement already satisfied: Pillow in /home/standard/miniconda3/lib/python3.9/site-packages (from ipyannotations) (9.0.1)\n",
      "Requirement already satisfied: ipykernel>=4.5.1 in /home/standard/miniconda3/lib/python3.9/site-packages (from ipywidgets>=7.0.0->ipyannotations) (6.15.1)\n",
      "Requirement already satisfied: ipython-genutils~=0.2.0 in /home/standard/miniconda3/lib/python3.9/site-packages (from ipywidgets>=7.0.0->ipyannotations) (0.2.0)\n",
      "Collecting widgetsnbextension~=3.6.0\n",
      "  Downloading widgetsnbextension-3.6.1-py2.py3-none-any.whl (1.6 MB)\n",
      "\u001b[K     |████████████████████████████████| 1.6 MB 6.9 MB/s eta 0:00:01\n",
      "\u001b[?25hRequirement already satisfied: traitlets>=4.3.1 in /home/standard/miniconda3/lib/python3.9/site-packages (from ipywidgets>=7.0.0->ipyannotations) (5.3.0)\n",
      "Requirement already satisfied: ipython>=4.0.0 in /home/standard/miniconda3/lib/python3.9/site-packages (from ipywidgets>=7.0.0->ipyannotations) (8.4.0)\n",
      "Collecting jupyterlab-widgets>=1.0.0\n",
      "  Downloading jupyterlab_widgets-1.1.1-py3-none-any.whl (245 kB)\n",
      "\u001b[K     |████████████████████████████████| 245 kB 9.0 MB/s eta 0:00:01\n",
      "\u001b[?25hRequirement already satisfied: matplotlib-inline>=0.1 in /home/standard/miniconda3/lib/python3.9/site-packages (from ipykernel>=4.5.1->ipywidgets>=7.0.0->ipyannotations) (0.1.3)\n",
      "Requirement already satisfied: tornado>=6.1 in /home/standard/miniconda3/lib/python3.9/site-packages (from ipykernel>=4.5.1->ipywidgets>=7.0.0->ipyannotations) (6.2)\n",
      "Requirement already satisfied: nest-asyncio in /home/standard/miniconda3/lib/python3.9/site-packages (from ipykernel>=4.5.1->ipywidgets>=7.0.0->ipyannotations) (1.5.5)\n",
      "Requirement already satisfied: psutil in /home/standard/miniconda3/lib/python3.9/site-packages (from ipykernel>=4.5.1->ipywidgets>=7.0.0->ipyannotations) (5.9.1)\n",
      "Requirement already satisfied: packaging in /home/standard/miniconda3/lib/python3.9/site-packages (from ipykernel>=4.5.1->ipywidgets>=7.0.0->ipyannotations) (21.3)\n",
      "Requirement already satisfied: jupyter-client>=6.1.12 in /home/standard/miniconda3/lib/python3.9/site-packages (from ipykernel>=4.5.1->ipywidgets>=7.0.0->ipyannotations) (7.3.4)\n",
      "Requirement already satisfied: pyzmq>=17 in /home/standard/miniconda3/lib/python3.9/site-packages (from ipykernel>=4.5.1->ipywidgets>=7.0.0->ipyannotations) (23.2.0)\n",
      "Requirement already satisfied: debugpy>=1.0 in /home/standard/miniconda3/lib/python3.9/site-packages (from ipykernel>=4.5.1->ipywidgets>=7.0.0->ipyannotations) (1.6.2)\n",
      "Requirement already satisfied: prompt-toolkit!=3.0.0,!=3.0.1,<3.1.0,>=2.0.0 in /home/standard/miniconda3/lib/python3.9/site-packages (from ipython>=4.0.0->ipywidgets>=7.0.0->ipyannotations) (3.0.30)\n",
      "Requirement already satisfied: stack-data in /home/standard/miniconda3/lib/python3.9/site-packages (from ipython>=4.0.0->ipywidgets>=7.0.0->ipyannotations) (0.3.0)\n",
      "Requirement already satisfied: jedi>=0.16 in /home/standard/miniconda3/lib/python3.9/site-packages (from ipython>=4.0.0->ipywidgets>=7.0.0->ipyannotations) (0.18.1)\n",
      "Requirement already satisfied: pexpect>4.3 in /home/standard/miniconda3/lib/python3.9/site-packages (from ipython>=4.0.0->ipywidgets>=7.0.0->ipyannotations) (4.8.0)\n",
      "Requirement already satisfied: pickleshare in /home/standard/miniconda3/lib/python3.9/site-packages (from ipython>=4.0.0->ipywidgets>=7.0.0->ipyannotations) (0.7.5)\n",
      "Requirement already satisfied: backcall in /home/standard/miniconda3/lib/python3.9/site-packages (from ipython>=4.0.0->ipywidgets>=7.0.0->ipyannotations) (0.2.0)\n",
      "Requirement already satisfied: setuptools>=18.5 in /home/standard/miniconda3/lib/python3.9/site-packages (from ipython>=4.0.0->ipywidgets>=7.0.0->ipyannotations) (61.2.0)\n",
      "Requirement already satisfied: pygments>=2.4.0 in /home/standard/miniconda3/lib/python3.9/site-packages (from ipython>=4.0.0->ipywidgets>=7.0.0->ipyannotations) (2.12.0)\n",
      "Requirement already satisfied: decorator in /home/standard/miniconda3/lib/python3.9/site-packages (from ipython>=4.0.0->ipywidgets>=7.0.0->ipyannotations) (5.1.1)\n",
      "Requirement already satisfied: parso<0.9.0,>=0.8.0 in /home/standard/miniconda3/lib/python3.9/site-packages (from jedi>=0.16->ipython>=4.0.0->ipywidgets>=7.0.0->ipyannotations) (0.8.3)\n",
      "Requirement already satisfied: jupyter-core>=4.9.2 in /home/standard/miniconda3/lib/python3.9/site-packages (from jupyter-client>=6.1.12->ipykernel>=4.5.1->ipywidgets>=7.0.0->ipyannotations) (4.11.1)\n",
      "Requirement already satisfied: python-dateutil>=2.8.2 in /home/standard/miniconda3/lib/python3.9/site-packages (from jupyter-client>=6.1.12->ipykernel>=4.5.1->ipywidgets>=7.0.0->ipyannotations) (2.8.2)\n",
      "Requirement already satisfied: entrypoints in /home/standard/miniconda3/lib/python3.9/site-packages (from jupyter-client>=6.1.12->ipykernel>=4.5.1->ipywidgets>=7.0.0->ipyannotations) (0.4)\n",
      "Requirement already satisfied: ptyprocess>=0.5 in /home/standard/miniconda3/lib/python3.9/site-packages (from pexpect>4.3->ipython>=4.0.0->ipywidgets>=7.0.0->ipyannotations) (0.7.0)\n",
      "Requirement already satisfied: wcwidth in /home/standard/miniconda3/lib/python3.9/site-packages (from prompt-toolkit!=3.0.0,!=3.0.1,<3.1.0,>=2.0.0->ipython>=4.0.0->ipywidgets>=7.0.0->ipyannotations) (0.2.5)\n",
      "Requirement already satisfied: six>=1.5 in /home/standard/miniconda3/lib/python3.9/site-packages (from python-dateutil>=2.8.2->jupyter-client>=6.1.12->ipykernel>=4.5.1->ipywidgets>=7.0.0->ipyannotations) (1.16.0)\n",
      "Requirement already satisfied: notebook>=4.4.1 in /home/standard/miniconda3/lib/python3.9/site-packages (from widgetsnbextension~=3.6.0->ipywidgets>=7.0.0->ipyannotations) (6.4.12)\n",
      "Requirement already satisfied: jinja2 in /home/standard/miniconda3/lib/python3.9/site-packages (from notebook>=4.4.1->widgetsnbextension~=3.6.0->ipywidgets>=7.0.0->ipyannotations) (3.1.2)\n",
      "Requirement already satisfied: terminado>=0.8.3 in /home/standard/miniconda3/lib/python3.9/site-packages (from notebook>=4.4.1->widgetsnbextension~=3.6.0->ipywidgets>=7.0.0->ipyannotations) (0.15.0)\n",
      "Requirement already satisfied: Send2Trash>=1.8.0 in /home/standard/miniconda3/lib/python3.9/site-packages (from notebook>=4.4.1->widgetsnbextension~=3.6.0->ipywidgets>=7.0.0->ipyannotations) (1.8.0)\n",
      "Requirement already satisfied: argon2-cffi in /home/standard/miniconda3/lib/python3.9/site-packages (from notebook>=4.4.1->widgetsnbextension~=3.6.0->ipywidgets>=7.0.0->ipyannotations) (21.3.0)\n",
      "Requirement already satisfied: prometheus-client in /home/standard/miniconda3/lib/python3.9/site-packages (from notebook>=4.4.1->widgetsnbextension~=3.6.0->ipywidgets>=7.0.0->ipyannotations) (0.14.1)\n",
      "Requirement already satisfied: nbformat in /home/standard/miniconda3/lib/python3.9/site-packages (from notebook>=4.4.1->widgetsnbextension~=3.6.0->ipywidgets>=7.0.0->ipyannotations) (5.4.0)\n",
      "Requirement already satisfied: nbconvert>=5 in /home/standard/miniconda3/lib/python3.9/site-packages (from notebook>=4.4.1->widgetsnbextension~=3.6.0->ipywidgets>=7.0.0->ipyannotations) (6.5.2)\n",
      "Requirement already satisfied: tinycss2 in /home/standard/miniconda3/lib/python3.9/site-packages (from nbconvert>=5->notebook>=4.4.1->widgetsnbextension~=3.6.0->ipywidgets>=7.0.0->ipyannotations) (1.1.1)\n",
      "Requirement already satisfied: lxml in /home/standard/miniconda3/lib/python3.9/site-packages (from nbconvert>=5->notebook>=4.4.1->widgetsnbextension~=3.6.0->ipywidgets>=7.0.0->ipyannotations) (4.9.1)\n",
      "Requirement already satisfied: pandocfilters>=1.4.1 in /home/standard/miniconda3/lib/python3.9/site-packages (from nbconvert>=5->notebook>=4.4.1->widgetsnbextension~=3.6.0->ipywidgets>=7.0.0->ipyannotations) (1.5.0)\n",
      "Requirement already satisfied: bleach in /home/standard/miniconda3/lib/python3.9/site-packages (from nbconvert>=5->notebook>=4.4.1->widgetsnbextension~=3.6.0->ipywidgets>=7.0.0->ipyannotations) (5.0.1)\n",
      "Requirement already satisfied: jupyterlab-pygments in /home/standard/miniconda3/lib/python3.9/site-packages (from nbconvert>=5->notebook>=4.4.1->widgetsnbextension~=3.6.0->ipywidgets>=7.0.0->ipyannotations) (0.2.2)\n",
      "Requirement already satisfied: mistune<2,>=0.8.1 in /home/standard/miniconda3/lib/python3.9/site-packages (from nbconvert>=5->notebook>=4.4.1->widgetsnbextension~=3.6.0->ipywidgets>=7.0.0->ipyannotations) (0.8.4)\n",
      "Requirement already satisfied: nbclient>=0.5.0 in /home/standard/miniconda3/lib/python3.9/site-packages (from nbconvert>=5->notebook>=4.4.1->widgetsnbextension~=3.6.0->ipywidgets>=7.0.0->ipyannotations) (0.6.6)\n",
      "Requirement already satisfied: MarkupSafe>=2.0 in /home/standard/miniconda3/lib/python3.9/site-packages (from nbconvert>=5->notebook>=4.4.1->widgetsnbextension~=3.6.0->ipywidgets>=7.0.0->ipyannotations) (2.1.1)\n",
      "Requirement already satisfied: beautifulsoup4 in /home/standard/miniconda3/lib/python3.9/site-packages (from nbconvert>=5->notebook>=4.4.1->widgetsnbextension~=3.6.0->ipywidgets>=7.0.0->ipyannotations) (4.11.1)\n",
      "Requirement already satisfied: defusedxml in /home/standard/miniconda3/lib/python3.9/site-packages (from nbconvert>=5->notebook>=4.4.1->widgetsnbextension~=3.6.0->ipywidgets>=7.0.0->ipyannotations) (0.7.1)\n",
      "Requirement already satisfied: jsonschema>=2.6 in /home/standard/miniconda3/lib/python3.9/site-packages (from nbformat->notebook>=4.4.1->widgetsnbextension~=3.6.0->ipywidgets>=7.0.0->ipyannotations) (4.9.1)\n",
      "Requirement already satisfied: fastjsonschema in /home/standard/miniconda3/lib/python3.9/site-packages (from nbformat->notebook>=4.4.1->widgetsnbextension~=3.6.0->ipywidgets>=7.0.0->ipyannotations) (2.16.1)\n",
      "Requirement already satisfied: attrs>=17.4.0 in /home/standard/miniconda3/lib/python3.9/site-packages (from jsonschema>=2.6->nbformat->notebook>=4.4.1->widgetsnbextension~=3.6.0->ipywidgets>=7.0.0->ipyannotations) (22.1.0)\n",
      "Requirement already satisfied: pyrsistent!=0.17.0,!=0.17.1,!=0.17.2,>=0.14.0 in /home/standard/miniconda3/lib/python3.9/site-packages (from jsonschema>=2.6->nbformat->notebook>=4.4.1->widgetsnbextension~=3.6.0->ipywidgets>=7.0.0->ipyannotations) (0.18.1)\n",
      "Requirement already satisfied: argon2-cffi-bindings in /home/standard/miniconda3/lib/python3.9/site-packages (from argon2-cffi->notebook>=4.4.1->widgetsnbextension~=3.6.0->ipywidgets>=7.0.0->ipyannotations) (21.2.0)\n",
      "Requirement already satisfied: cffi>=1.0.1 in /home/standard/miniconda3/lib/python3.9/site-packages (from argon2-cffi-bindings->argon2-cffi->notebook>=4.4.1->widgetsnbextension~=3.6.0->ipywidgets>=7.0.0->ipyannotations) (1.15.0)\n",
      "Requirement already satisfied: pycparser in /home/standard/miniconda3/lib/python3.9/site-packages (from cffi>=1.0.1->argon2-cffi-bindings->argon2-cffi->notebook>=4.4.1->widgetsnbextension~=3.6.0->ipywidgets>=7.0.0->ipyannotations) (2.21)\n",
      "Requirement already satisfied: soupsieve>1.2 in /home/standard/miniconda3/lib/python3.9/site-packages (from beautifulsoup4->nbconvert>=5->notebook>=4.4.1->widgetsnbextension~=3.6.0->ipywidgets>=7.0.0->ipyannotations) (2.3.2.post1)\n",
      "Requirement already satisfied: webencodings in /home/standard/miniconda3/lib/python3.9/site-packages (from bleach->nbconvert>=5->notebook>=4.4.1->widgetsnbextension~=3.6.0->ipywidgets>=7.0.0->ipyannotations) (0.5.1)\n",
      "Requirement already satisfied: pyparsing!=3.0.5,>=2.0.2 in /home/standard/miniconda3/lib/python3.9/site-packages (from packaging->ipykernel>=4.5.1->ipywidgets>=7.0.0->ipyannotations) (3.0.9)\n",
      "Requirement already satisfied: idna<4,>=2.5 in /home/standard/miniconda3/lib/python3.9/site-packages (from requests->ipyannotations) (3.3)\n",
      "Requirement already satisfied: certifi>=2017.4.17 in /home/standard/miniconda3/lib/python3.9/site-packages (from requests->ipyannotations) (2022.6.15)\n",
      "Requirement already satisfied: charset-normalizer~=2.0.0 in /home/standard/miniconda3/lib/python3.9/site-packages (from requests->ipyannotations) (2.0.4)\n",
      "Requirement already satisfied: urllib3<1.27,>=1.21.1 in /home/standard/miniconda3/lib/python3.9/site-packages (from requests->ipyannotations) (1.26.8)\n",
      "Requirement already satisfied: asttokens in /home/standard/miniconda3/lib/python3.9/site-packages (from stack-data->ipython>=4.0.0->ipywidgets>=7.0.0->ipyannotations) (2.0.7)\n",
      "Requirement already satisfied: executing in /home/standard/miniconda3/lib/python3.9/site-packages (from stack-data->ipython>=4.0.0->ipywidgets>=7.0.0->ipyannotations) (0.9.1)\n",
      "Requirement already satisfied: pure-eval in /home/standard/miniconda3/lib/python3.9/site-packages (from stack-data->ipython>=4.0.0->ipywidgets>=7.0.0->ipyannotations) (0.2.2)\n",
      "Installing collected packages: widgetsnbextension, jupyterlab-widgets, ipywidgets, palettable, ipyevents, ipycanvas, ipyannotations\n",
      "Successfully installed ipyannotations-0.4.1 ipycanvas-0.12.0 ipyevents-2.0.1 ipywidgets-7.7.1 jupyterlab-widgets-1.1.1 palettable-3.3.0 widgetsnbextension-3.6.1\n"
     ]
    }
   ],
   "source": [
    "!pip install ipyannotations\n"
   ]
  },
  {
   "cell_type": "code",
   "execution_count": null,
   "id": "8efedd10-ebf7-47d7-99bc-1b3b06cbc567",
   "metadata": {},
   "outputs": [],
   "source": [
    "!conda create -y -n ipyannotations-dev -c conda-forge nodejs yarn python jupyterlab\n"
   ]
  }
 ],
 "metadata": {
  "kernelspec": {
   "display_name": "Python 3 (ipykernel)",
   "language": "python",
   "name": "python3"
  },
  "language_info": {
   "codemirror_mode": {
    "name": "ipython",
    "version": 3
   },
   "file_extension": ".py",
   "mimetype": "text/x-python",
   "name": "python",
   "nbconvert_exporter": "python",
   "pygments_lexer": "ipython3",
   "version": "3.9.12"
  }
 },
 "nbformat": 4,
 "nbformat_minor": 5
}
