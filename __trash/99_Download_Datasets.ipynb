{
 "cells": [
  {
   "cell_type": "code",
   "execution_count": 2,
   "id": "23239d1f-edb8-4be3-ad38-5cb278502973",
   "metadata": {},
   "outputs": [
    {
     "name": "stdout",
     "output_type": "stream",
     "text": [
      "/home/standard/.local/bin:/home/standard/miniconda3/bin:/usr/local/sbin:/usr/local/bin:/usr/sbin:/usr/bin:/sbin:/bin:/snap/bin\n",
      "conda 4.13.0\n",
      "pip 21.2.4 from /home/standard/miniconda3/lib/python3.9/site-packages/pip (python 3.9)\n",
      "env: INTRO_RITES_READ=1\n"
     ]
    }
   ],
   "source": [
    "%run ~/Notebooks/00_Intro.ipynb"
   ]
  },
  {
   "cell_type": "code",
   "execution_count": 5,
   "id": "a2ae3196-263d-44a0-85cd-9bd61998bc58",
   "metadata": {},
   "outputs": [],
   "source": [
    "%%capture\n",
    "!pip install kaggle"
   ]
  },
  {
   "cell_type": "code",
   "execution_count": null,
   "id": "362be258-16e1-4e33-b047-0819fe9f6d6a",
   "metadata": {},
   "outputs": [],
   "source": [
    "%cd /data/DATASETS"
   ]
  },
  {
   "cell_type": "code",
   "execution_count": null,
   "id": "0b29135f-b9cd-4f6c-a8f8-b5a811eac623",
   "metadata": {},
   "outputs": [],
   "source": [
    "!kaggle competitions download -c quran-asr-challenge"
   ]
  },
  {
   "cell_type": "code",
   "execution_count": 10,
   "id": "b77a639b-d9cf-4c72-a9e3-292a1dc2b8af",
   "metadata": {},
   "outputs": [
    {
     "name": "stdout",
     "output_type": "stream",
     "text": [
      "Downloading wikibooks-dataset.zip to /data/DATASETS\n",
      "100%|█████████████████████████████████████▉| 1.82G/1.82G [01:21<00:00, 34.0MB/s]\n",
      "100%|██████████████████████████████████████| 1.82G/1.82G [01:21<00:00, 24.2MB/s]\n"
     ]
    }
   ],
   "source": [
    "!kaggle datasets download dhruvildave/wikibooks-dataset"
   ]
  },
  {
   "cell_type": "code",
   "execution_count": 11,
   "id": "ad272290-f710-4caa-9cac-1eae6f402088",
   "metadata": {},
   "outputs": [
    {
     "name": "stdout",
     "output_type": "stream",
     "text": [
      "Downloading goodreads-best-books.zip to /data/DATASETS\n",
      "100%|█████████████████████████████████████▉| 2.13G/2.13G [01:06<00:00, 20.8MB/s]\n",
      "100%|██████████████████████████████████████| 2.13G/2.13G [01:06<00:00, 34.6MB/s]\n"
     ]
    }
   ],
   "source": [
    "!kaggle datasets download meetnaren/goodreads-best-books"
   ]
  },
  {
   "cell_type": "code",
   "execution_count": 12,
   "id": "5b59d0d9-85a7-4b8d-8797-4f5ea074f1d3",
   "metadata": {},
   "outputs": [
    {
     "name": "stdout",
     "output_type": "stream",
     "text": [
      "Downloading covid19engineeringbooksnlpdataset.zip to /data/DATASETS\n",
      "100%|██████████████████████████████████████| 6.03G/6.03G [03:18<00:00, 40.9MB/s]\n",
      "100%|██████████████████████████████████████| 6.03G/6.03G [03:18<00:00, 32.6MB/s]\n"
     ]
    }
   ],
   "source": [
    "!kaggle datasets download praveengovi/covid19engineeringbooksnlpdataset"
   ]
  },
  {
   "cell_type": "code",
   "execution_count": null,
   "id": "a7679e4d-8305-42ea-bee3-23f237554ae1",
   "metadata": {},
   "outputs": [
    {
     "name": "stdout",
     "output_type": "stream",
     "text": [
      "Downloading large-books-metadata-dataset-50-mill-entries.zip to /data/DATASETS\n",
      " 38%|██████████████▎                       | 6.54G/17.4G [03:47<04:54, 39.5MB/s]"
     ]
    }
   ],
   "source": [
    "!kaggle datasets download opalskies/large-books-metadata-dataset-50-mill-entries"
   ]
  },
  {
   "cell_type": "code",
   "execution_count": null,
   "id": "26498e2f-cc83-488a-aa68-4f2805da4008",
   "metadata": {},
   "outputs": [],
   "source": [
    "!kaggle datasets download c0ooys/papyrusbooks"
   ]
  },
  {
   "cell_type": "code",
   "execution_count": null,
   "id": "83d6ca15-f3ee-4043-a267-6bd2e1f11acc",
   "metadata": {},
   "outputs": [],
   "source": [
    "!kaggle datasets download gandharv24/pdfdata"
   ]
  },
  {
   "cell_type": "code",
   "execution_count": null,
   "id": "d3513a92-7885-4f3a-9e6c-e9bca099b776",
   "metadata": {},
   "outputs": [],
   "source": [
    "!kaggle datasets download mobassir/tafsir-ibn-kathir-in-english"
   ]
  },
  {
   "cell_type": "code",
   "execution_count": null,
   "id": "2b6c0699-657e-427c-ac72-e99752cbf8ec",
   "metadata": {},
   "outputs": [],
   "source": [
    "wget -r -np -R \"index.html*\" -nH --cut-dirs=2 https://the-eye.eu/public/3D/Thingiverse/"
   ]
  }
 ],
 "metadata": {
  "kernelspec": {
   "display_name": "Python 3 (ipykernel)",
   "language": "python",
   "name": "python3"
  },
  "language_info": {
   "codemirror_mode": {
    "name": "ipython",
    "version": 3
   },
   "file_extension": ".py",
   "mimetype": "text/x-python",
   "name": "python",
   "nbconvert_exporter": "python",
   "pygments_lexer": "ipython3",
   "version": "3.9.13"
  }
 },
 "nbformat": 4,
 "nbformat_minor": 5
}
