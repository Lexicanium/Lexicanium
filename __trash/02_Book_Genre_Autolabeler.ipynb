{
 "cells": [
  {
   "cell_type": "markdown",
   "id": "79f0a2b7",
   "metadata": {},
   "source": [
    " lets manually set the following categories in the corpus of pdf, ocred and csv_metadated :\n",
    "        \n",
    "        \n",
    "   - medical/flashcards\n",
    "   - medical/textbooks\n",
    "   - medical/misc\n",
    "   - bio\n",
    "   - biotech\n",
    "   - cs/ml\n",
    "   - cs/ml_nlp\n",
    "   - cs/oreilly\n",
    "   - cs/grokking\n",
    "   - cs/manning\n",
    "   - cs/misc\n",
    "   - intro\n",
    "   - intro/oxford_very\n",
    "   - math\n",
    "   - popsci/math\n",
    "   - popsci/misc\n",
    "   - popsci/antropology\n",
    "   - popsci/cs\n",
    "    \n",
    "lets learn them using cvs_metadata representation \n",
    "\n",
    "lets learn them using .pkl representation\n",
    "\n",
    "\n",
    "lets learn them using png representation of cover"
   ]
  }
 ],
 "metadata": {
  "kernelspec": {
   "display_name": "Python 3 (ipykernel)",
   "language": "python",
   "name": "python3"
  },
  "language_info": {
   "codemirror_mode": {
    "name": "ipython",
    "version": 3
   },
   "file_extension": ".py",
   "mimetype": "text/x-python",
   "name": "python",
   "nbconvert_exporter": "python",
   "pygments_lexer": "ipython3",
   "version": "3.9.12"
  }
 },
 "nbformat": 4,
 "nbformat_minor": 5
}
