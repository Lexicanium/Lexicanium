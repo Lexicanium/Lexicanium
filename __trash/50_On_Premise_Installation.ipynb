{
 "cells": [
  {
   "cell_type": "markdown",
   "id": "5fccf655",
   "metadata": {},
   "source": [
    "provide a qr code that opens a web page with windows/linux/mac command to be run to clone full installation of the server system\n",
    "\n"
   ]
  }
 ],
 "metadata": {
  "kernelspec": {
   "display_name": "Python 3 (ipykernel)",
   "language": "python",
   "name": "python3"
  },
  "language_info": {
   "codemirror_mode": {
    "name": "ipython",
    "version": 3
   },
   "file_extension": ".py",
   "mimetype": "text/x-python",
   "name": "python",
   "nbconvert_exporter": "python",
   "pygments_lexer": "ipython3",
   "version": "3.9.13"
  }
 },
 "nbformat": 4,
 "nbformat_minor": 5
}
