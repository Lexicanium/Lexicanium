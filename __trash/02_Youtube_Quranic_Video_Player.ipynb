{
 "cells": [
  {
   "cell_type": "markdown",
   "id": "9482ee89",
   "metadata": {},
   "source": [
    "Detect references to the ayats and demonstrate them \n",
    "\n",
    "similiar to \n",
    "\n",
    "https://youtu.be/FtnfR3QBkNw"
   ]
  },
  {
   "cell_type": "markdown",
   "id": "ead615e2",
   "metadata": {},
   "source": [
    "  - https://youtu.be/__o35y6fmiY\n",
    "  - https://youtu.be/CemqlLknqx8\n",
    "  - https://youtu.be/KwZ-LFPkUNo"
   ]
  }
 ],
 "metadata": {
  "kernelspec": {
   "display_name": "Python 3 (ipykernel)",
   "language": "python",
   "name": "python3"
  },
  "language_info": {
   "codemirror_mode": {
    "name": "ipython",
    "version": 3
   },
   "file_extension": ".py",
   "mimetype": "text/x-python",
   "name": "python",
   "nbconvert_exporter": "python",
   "pygments_lexer": "ipython3",
   "version": "3.9.13"
  }
 },
 "nbformat": 4,
 "nbformat_minor": 5
}
