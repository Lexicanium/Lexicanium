{
 "cells": [
  {
   "cell_type": "code",
   "execution_count": 4,
   "id": "2423a6eb-81f0-4072-803a-f9c80dcb8287",
   "metadata": {},
   "outputs": [
    {
     "data": {
      "application/vnd.jupyter.widget-view+json": {
       "model_id": "2028b724700149b78d59588786d11c4a",
       "version_major": 2,
       "version_minor": 0
      },
      "text/plain": [
       "  0%|          | 0/30 [00:00<?, ?it/s]"
      ]
     },
     "metadata": {},
     "output_type": "display_data"
    }
   ],
   "source": [
    "from multiprocessing import Pool\n",
    "from tqdm.notebook import tqdm\n",
    "import time\n",
    "\n",
    "def _foo(my_number):\n",
    "   square = my_number * my_number\n",
    "   time.sleep(1)\n",
    "   return square \n",
    "\n",
    "if __name__ == '__main__':\n",
    "   with Pool(9) as p:\n",
    "      r = list(tqdm(p.imap(_foo, range(30)), total=30))\n"
   ]
  },
  {
   "cell_type": "code",
   "execution_count": 5,
   "id": "c27a1882-69d2-4906-88c8-d9a1d7ee0135",
   "metadata": {},
   "outputs": [
    {
     "data": {
      "application/vnd.jupyter.widget-view+json": {
       "model_id": "e668877f8a71482599a2435011f71332",
       "version_major": 2,
       "version_minor": 0
      },
      "text/plain": [
       "  0%|          | 0/30 [00:00<?, ?it/s]"
      ]
     },
     "metadata": {},
     "output_type": "display_data"
    }
   ],
   "source": [
    "from tqdm.contrib.concurrent import process_map  # or thread_map\n",
    "import time\n",
    "\n",
    "def _foo(my_number):\n",
    "   square = my_number * my_number\n",
    "   time.sleep(1)\n",
    "   return square \n",
    "\n",
    "if __name__ == '__main__':\n",
    "       r = process_map(_foo, range(0, 30), max_workers=2)\n"
   ]
  }
 ],
 "metadata": {
  "kernelspec": {
   "display_name": "Python 3 (ipykernel)",
   "language": "python",
   "name": "python3"
  },
  "language_info": {
   "codemirror_mode": {
    "name": "ipython",
    "version": 3
   },
   "file_extension": ".py",
   "mimetype": "text/x-python",
   "name": "python",
   "nbconvert_exporter": "python",
   "pygments_lexer": "ipython3",
   "version": "3.9.13"
  }
 },
 "nbformat": 4,
 "nbformat_minor": 5
}
