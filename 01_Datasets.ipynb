{
 "cells": [
  {
   "cell_type": "code",
   "execution_count": 2,
   "id": "23239d1f-edb8-4be3-ad38-5cb278502973",
   "metadata": {},
   "outputs": [
    {
     "name": "stdout",
     "output_type": "stream",
     "text": [
      "/home/standard/.local/bin:/home/standard/miniconda3/bin:/usr/local/sbin:/usr/local/bin:/usr/sbin:/usr/bin:/sbin:/bin:/snap/bin\n",
      "conda 4.13.0\n",
      "pip 21.2.4 from /home/standard/miniconda3/lib/python3.9/site-packages/pip (python 3.9)\n",
      "env: INTRO_RITES_READ=1\n"
     ]
    }
   ],
   "source": [
    "%run ~/Notebooks/00_Intro.ipynb"
   ]
  },
  {
   "cell_type": "code",
   "execution_count": 5,
   "id": "a2ae3196-263d-44a0-85cd-9bd61998bc58",
   "metadata": {},
   "outputs": [],
   "source": [
    "%%capture\n",
    "!pip install kaggle"
   ]
  },
  {
   "cell_type": "code",
   "execution_count": 1,
   "id": "362be258-16e1-4e33-b047-0819fe9f6d6a",
   "metadata": {},
   "outputs": [
    {
     "name": "stdout",
     "output_type": "stream",
     "text": [
      "/data/DATASETS\n"
     ]
    }
   ],
   "source": [
    "%cd /data/DATASETS"
   ]
  },
  {
   "cell_type": "code",
   "execution_count": null,
   "id": "0b29135f-b9cd-4f6c-a8f8-b5a811eac623",
   "metadata": {},
   "outputs": [],
   "source": [
    "!kaggle competitions download -c quran-asr-challenge"
   ]
  },
  {
   "cell_type": "code",
   "execution_count": 10,
   "id": "b77a639b-d9cf-4c72-a9e3-292a1dc2b8af",
   "metadata": {},
   "outputs": [
    {
     "name": "stdout",
     "output_type": "stream",
     "text": [
      "Downloading wikibooks-dataset.zip to /data/DATASETS\n",
      "100%|█████████████████████████████████████▉| 1.82G/1.82G [01:21<00:00, 34.0MB/s]\n",
      "100%|██████████████████████████████████████| 1.82G/1.82G [01:21<00:00, 24.2MB/s]\n"
     ]
    }
   ],
   "source": [
    "!kaggle datasets download dhruvildave/wikibooks-dataset"
   ]
  },
  {
   "cell_type": "code",
   "execution_count": 11,
   "id": "ad272290-f710-4caa-9cac-1eae6f402088",
   "metadata": {},
   "outputs": [
    {
     "name": "stdout",
     "output_type": "stream",
     "text": [
      "Downloading goodreads-best-books.zip to /data/DATASETS\n",
      "100%|█████████████████████████████████████▉| 2.13G/2.13G [01:06<00:00, 20.8MB/s]\n",
      "100%|██████████████████████████████████████| 2.13G/2.13G [01:06<00:00, 34.6MB/s]\n"
     ]
    }
   ],
   "source": [
    "!kaggle datasets download meetnaren/goodreads-best-books"
   ]
  },
  {
   "cell_type": "code",
   "execution_count": 12,
   "id": "5b59d0d9-85a7-4b8d-8797-4f5ea074f1d3",
   "metadata": {},
   "outputs": [
    {
     "name": "stdout",
     "output_type": "stream",
     "text": [
      "Downloading covid19engineeringbooksnlpdataset.zip to /data/DATASETS\n",
      "100%|██████████████████████████████████████| 6.03G/6.03G [03:18<00:00, 40.9MB/s]\n",
      "100%|██████████████████████████████████████| 6.03G/6.03G [03:18<00:00, 32.6MB/s]\n"
     ]
    }
   ],
   "source": [
    "!kaggle datasets download praveengovi/covid19engineeringbooksnlpdataset"
   ]
  },
  {
   "cell_type": "code",
   "execution_count": 2,
   "id": "a7679e4d-8305-42ea-bee3-23f237554ae1",
   "metadata": {},
   "outputs": [
    {
     "name": "stdout",
     "output_type": "stream",
     "text": [
      "large-books-metadata-dataset-50-mill-entries.zip: Skipping, found more recently modified local copy (use --force to force download)\n"
     ]
    }
   ],
   "source": [
    "!kaggle datasets download opalskies/large-books-metadata-dataset-50-mill-entries"
   ]
  },
  {
   "cell_type": "code",
   "execution_count": 3,
   "id": "26498e2f-cc83-488a-aa68-4f2805da4008",
   "metadata": {},
   "outputs": [
    {
     "name": "stdout",
     "output_type": "stream",
     "text": [
      "papyrusbooks.zip: Skipping, found more recently modified local copy (use --force to force download)\n"
     ]
    }
   ],
   "source": [
    "!kaggle datasets download c0ooys/papyrusbooks"
   ]
  },
  {
   "cell_type": "code",
   "execution_count": null,
   "id": "83d6ca15-f3ee-4043-a267-6bd2e1f11acc",
   "metadata": {},
   "outputs": [],
   "source": [
    "!kaggle datasets download gandharv24/pdfdata"
   ]
  },
  {
   "cell_type": "code",
   "execution_count": 2,
   "id": "d3513a92-7885-4f3a-9e6c-e9bca099b776",
   "metadata": {},
   "outputs": [
    {
     "name": "stdout",
     "output_type": "stream",
     "text": [
      "tafsir-ibn-kathir-in-english.zip: Skipping, found more recently modified local copy (use --force to force download)\n"
     ]
    }
   ],
   "source": [
    "!kaggle datasets download mobassir/tafsir-ibn-kathir-in-english"
   ]
  },
  {
   "cell_type": "code",
   "execution_count": null,
   "id": "2b6c0699-657e-427c-ac72-e99752cbf8ec",
   "metadata": {},
   "outputs": [
    {
     "name": "stdout",
     "output_type": "stream",
     "text": [
      "--2022-08-12 14:34:14--  https://the-eye.eu/public/3D/Thingiverse/\n",
      "Resolving the-eye.eu (the-eye.eu)... 162.213.130.6\n",
      "Connecting to the-eye.eu (the-eye.eu)|162.213.130.6|:443... connected.\n",
      "HTTP request sent, awaiting response... 200 OK\n",
      "Length: unspecified [text/html]\n",
      "Saving to: ‘Thingiverse/index.html.tmp’\n",
      "\n",
      "Thingiverse/index.h     [ <=>                ]   3.28K  --.-KB/s    in 0s      \n",
      "\n",
      "2022-08-12 14:34:14 (508 MB/s) - ‘Thingiverse/index.html.tmp’ saved [3359]\n",
      "\n",
      "Loading robots.txt; please ignore errors.\n",
      "--2022-08-12 14:34:14--  https://the-eye.eu/robots.txt\n",
      "Reusing existing connection to the-eye.eu:443.\n",
      "HTTP request sent, awaiting response... 404 Not Found\n",
      "2022-08-12 14:34:15 ERROR 404: Not Found.\n",
      "\n",
      "Removing Thingiverse/index.html.tmp since it should be rejected.\n",
      "\n",
      "--2022-08-12 14:34:15--  https://the-eye.eu/public/3D/Thingiverse/thingiverse_00000.7z\n",
      "Reusing existing connection to the-eye.eu:443.\n",
      "HTTP request sent, awaiting response... 200 OK\n",
      "Length: 980181926 (935M) [application/x-7z-compressed]\n",
      "Saving to: ‘Thingiverse/thingiverse_00000.7z’\n",
      "\n",
      "Thingiverse/thingiv 100%[===================>] 934.77M  10.3MB/s    in 48s     \n",
      "\n",
      "2022-08-12 14:35:03 (19.5 MB/s) - ‘Thingiverse/thingiverse_00000.7z’ saved [980181926/980181926]\n",
      "\n",
      "--2022-08-12 14:35:03--  https://the-eye.eu/public/3D/Thingiverse/thingiverse_00001.7z\n",
      "Reusing existing connection to the-eye.eu:443.\n",
      "HTTP request sent, awaiting response... 200 OK\n",
      "Length: 946544902 (903M) [application/x-7z-compressed]\n",
      "Saving to: ‘Thingiverse/thingiverse_00001.7z’\n",
      "\n",
      "Thingiverse/thingiv 100%[===================>] 902.70M  32.2MB/s    in 59s     \n",
      "\n",
      "2022-08-12 14:36:02 (15.3 MB/s) - ‘Thingiverse/thingiverse_00001.7z’ saved [946544902/946544902]\n",
      "\n",
      "--2022-08-12 14:36:02--  https://the-eye.eu/public/3D/Thingiverse/thingiverse_00002.7z\n",
      "Reusing existing connection to the-eye.eu:443.\n",
      "HTTP request sent, awaiting response... 200 OK\n",
      "Length: 1269811862 (1.2G) [application/x-7z-compressed]\n",
      "Saving to: ‘Thingiverse/thingiverse_00002.7z’\n",
      "\n",
      "Thingiverse/thingiv 100%[===================>]   1.18G  35.9MB/s    in 37s     \n",
      "\n",
      "2022-08-12 14:36:39 (32.8 MB/s) - ‘Thingiverse/thingiverse_00002.7z’ saved [1269811862/1269811862]\n",
      "\n",
      "--2022-08-12 14:36:39--  https://the-eye.eu/public/3D/Thingiverse/thingiverse_00003.7z\n",
      "Reusing existing connection to the-eye.eu:443.\n",
      "HTTP request sent, awaiting response... 200 OK\n",
      "Length: 1701047585 (1.6G) [application/x-7z-compressed]\n",
      "Saving to: ‘Thingiverse/thingiverse_00003.7z’\n",
      "\n",
      "Thingiverse/thingiv 100%[===================>]   1.58G  20.0MB/s    in 1m 56s  \n",
      "\n",
      "2022-08-12 14:38:35 (13.9 MB/s) - ‘Thingiverse/thingiverse_00003.7z’ saved [1701047585/1701047585]\n",
      "\n",
      "--2022-08-12 14:38:35--  https://the-eye.eu/public/3D/Thingiverse/thingiverse_00004.7z\n",
      "Reusing existing connection to the-eye.eu:443.\n",
      "HTTP request sent, awaiting response... 200 OK\n",
      "Length: 1207404069 (1.1G) [application/x-7z-compressed]\n",
      "Saving to: ‘Thingiverse/thingiverse_00004.7z’\n",
      "\n",
      "Thingiverse/thingiv 100%[===================>]   1.12G  35.9MB/s    in 37s     \n",
      "\n",
      "2022-08-12 14:39:13 (31.2 MB/s) - ‘Thingiverse/thingiverse_00004.7z’ saved [1207404069/1207404069]\n",
      "\n",
      "--2022-08-12 14:39:13--  https://the-eye.eu/public/3D/Thingiverse/thingiverse_00005.7z\n",
      "Reusing existing connection to the-eye.eu:443.\n",
      "HTTP request sent, awaiting response... 200 OK\n",
      "Length: 1400436307 (1.3G) [application/x-7z-compressed]\n",
      "Saving to: ‘Thingiverse/thingiverse_00005.7z’\n",
      "\n",
      "Thingiverse/thingiv 100%[===================>]   1.30G  32.6MB/s    in 65s     \n",
      "\n",
      "2022-08-12 14:40:18 (20.5 MB/s) - ‘Thingiverse/thingiverse_00005.7z’ saved [1400436307/1400436307]\n",
      "\n",
      "--2022-08-12 14:40:18--  https://the-eye.eu/public/3D/Thingiverse/thingiverse_00006.7z\n",
      "Reusing existing connection to the-eye.eu:443.\n",
      "HTTP request sent, awaiting response... 200 OK\n",
      "Length: 1029696628 (982M) [application/x-7z-compressed]\n",
      "Saving to: ‘Thingiverse/thingiverse_00006.7z’\n",
      "\n",
      "Thingiverse/thingiv 100%[===================>] 982.00M  15.3MB/s    in 51s     \n",
      "\n",
      "2022-08-12 14:41:09 (19.2 MB/s) - ‘Thingiverse/thingiverse_00006.7z’ saved [1029696628/1029696628]\n",
      "\n",
      "--2022-08-12 14:41:09--  https://the-eye.eu/public/3D/Thingiverse/thingiverse_00007.7z\n",
      "Reusing existing connection to the-eye.eu:443.\n",
      "HTTP request sent, awaiting response... 200 OK\n",
      "Length: 2159376186 (2.0G) [application/x-7z-compressed]\n",
      "Saving to: ‘Thingiverse/thingiverse_00007.7z’\n",
      "\n",
      "Thingiverse/thingiv 100%[===================>]   2.01G  34.6MB/s    in 67s     \n",
      "\n",
      "2022-08-12 14:42:16 (30.8 MB/s) - ‘Thingiverse/thingiverse_00007.7z’ saved [2159376186/2159376186]\n",
      "\n",
      "--2022-08-12 14:42:16--  https://the-eye.eu/public/3D/Thingiverse/thingiverse_00008.7z\n",
      "Reusing existing connection to the-eye.eu:443.\n",
      "HTTP request sent, awaiting response... 200 OK\n",
      "Length: 1437046174 (1.3G) [application/x-7z-compressed]\n",
      "Saving to: ‘Thingiverse/thingiverse_00008.7z’\n",
      "\n",
      "ngiverse_00008.7z    62%[===========>        ] 852.05M  29.3MB/s    eta 18s    "
     ]
    }
   ],
   "source": [
    "!wget -r -np -R \"index.html*\" -nH --cut-dirs=2 https://the-eye.eu/public/3D/Thingiverse/"
   ]
  }
 ],
 "metadata": {
  "kernelspec": {
   "display_name": "Python 3 (ipykernel)",
   "language": "python",
   "name": "python3"
  },
  "language_info": {
   "codemirror_mode": {
    "name": "ipython",
    "version": 3
   },
   "file_extension": ".py",
   "mimetype": "text/x-python",
   "name": "python",
   "nbconvert_exporter": "python",
   "pygments_lexer": "ipython3",
   "version": "3.9.12"
  }
 },
 "nbformat": 4,
 "nbformat_minor": 5
}
