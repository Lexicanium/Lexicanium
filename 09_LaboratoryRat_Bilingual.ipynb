{
 "cells": [
  {
   "cell_type": "markdown",
   "id": "f92e2149-b66f-41bb-961d-8a9a258ca66b",
   "metadata": {},
   "source": [
    "special case: for both side page - show both, turn them side by side, make page size double"
   ]
  },
  {
   "cell_type": "code",
   "execution_count": 1,
   "id": "7648f9da-6ce9-4eec-8372-a887cee2dd60",
   "metadata": {},
   "outputs": [],
   "source": [
    "PDF_FILE = \"/data/BOOKS/SELECTED/The Behavior of the Laboratory Rat, A Handbook with Tests.pdf\" "
   ]
  },
  {
   "cell_type": "code",
   "execution_count": null,
   "id": "7c68850b-222a-4e91-ba7d-efdfccebd48d",
   "metadata": {},
   "outputs": [],
   "source": [
    "from IPython.display import IFrame\n",
    "IFrame(PDF_FILE, width=600, height=300)"
   ]
  }
 ],
 "metadata": {
  "kernelspec": {
   "display_name": "Python 3 (ipykernel)",
   "language": "python",
   "name": "python3"
  },
  "language_info": {
   "codemirror_mode": {
    "name": "ipython",
    "version": 3
   },
   "file_extension": ".py",
   "mimetype": "text/x-python",
   "name": "python",
   "nbconvert_exporter": "python",
   "pygments_lexer": "ipython3",
   "version": "3.9.13"
  }
 },
 "nbformat": 4,
 "nbformat_minor": 5
}
