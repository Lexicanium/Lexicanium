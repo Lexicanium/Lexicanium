{
 "cells": [
  {
   "cell_type": "code",
   "execution_count": 1,
   "id": "3918e047-ff39-475a-afe4-d732469b3645",
   "metadata": {},
   "outputs": [],
   "source": [
    "isbns_sample = \"\"\"\n",
    "ISBN 978-1-4419-7712-0 e-ISBN 978-1-4419-7713-7\n",
    "\n",
    "\n",
    "ISBN 0-387-98271-X Springer-Verlag New York Berlin Heidelberg SPIN 10630043 (hardcover)\n",
    "ISBN 0-387-98322-8 \n",
    "\n",
    "ISBN 978-1-4419-7117-3 e-ISBN 978-1-4419-7118-0\n",
    "\n",
    "ISBN: 978-0-07-178190-9\n",
    "\n",
    "ISBN-13 (pbk): 978-1-4842-3771-7 ISBN-13 (electronic): 978-1-4842-3772-4\n",
    "\n",
    "ISBN-13: 978-0-89051-296-8\n",
    "\n",
    "ISBN: 978-1-77361-842-5 (e-book)\n",
    "\n",
    "\n",
    "eBook ISBN 13: 978-1-292-40117-1\n",
    "ISBN 13: 978-1-292-40113-3\n",
    "ISBN 10: 1-292-40113-3\n",
    "\n",
    "ISBN 1-84214-076-0\n",
    "\n",
    "ISBN 9781626232525 | ISBN 9781626232532 (eISBN) | ISBN\n",
    "9781626232532\n",
    "\n",
    "ISBN: 978-0-07-178190-9\n",
    "\"\"\"\n"
   ]
  },
  {
   "cell_type": "code",
   "execution_count": 2,
   "id": "fd36b7e5",
   "metadata": {},
   "outputs": [
    {
     "data": {
      "text/plain": [
       "7"
      ]
     },
     "execution_count": 2,
     "metadata": {},
     "output_type": "execute_result"
    }
   ],
   "source": [
    "3 + 4\n",
    "\n"
   ]
  },
  {
   "cell_type": "code",
   "execution_count": null,
   "id": "b003f7ee",
   "metadata": {},
   "outputs": [],
   "source": []
  },
  {
   "cell_type": "code",
   "execution_count": 4,
   "id": "4fc6aefc",
   "metadata": {},
   "outputs": [
    {
     "name": "stdout",
     "output_type": "stream",
     "text": [
      "Using device: cuda\n",
      "\n",
      "NVIDIA GeForce RTX 3080\n",
      "Memory Usage:\n",
      "Allocated: 0.0 GB\n",
      "Cached:    0.0 GB\n"
     ]
    },
    {
     "name": "stderr",
     "output_type": "stream",
     "text": [
      "/home/standard/miniconda3/lib/python3.9/site-packages/tqdm/auto.py:22: TqdmWarning: IProgress not found. Please update jupyter and ipywidgets. See https://ipywidgets.readthedocs.io/en/stable/user_install.html\n",
      "  from .autonotebook import tqdm as notebook_tqdm\n",
      "/home/standard/miniconda3/lib/python3.9/site-packages/torch/cuda/memory.py:395: FutureWarning: torch.cuda.memory_cached has been renamed to torch.cuda.memory_reserved\n",
      "  warnings.warn(\n"
     ]
    }
   ],
   "source": [
    "import torch\n",
    "\n",
    "# setting device on GPU if available, else CPU\n",
    "device = torch.device('cuda' if torch.cuda.is_available() else 'cpu')\n",
    "print('Using device:', device)\n",
    "print()\n",
    "\n",
    "\n",
    "#Additional Info when using cuda\n",
    "if device.type == 'cuda':\n",
    "    print(torch.cuda.get_device_name(0))\n",
    "    print('Memory Usage:')\n",
    "    print('Allocated:', round(torch.cuda.memory_allocated(0)/1024**3,1), 'GB')\n",
    "    print('Cached:   ', round(torch.cuda.memory_cached(0)/1024**3,1), 'GB')\n"
   ]
  },
  {
   "cell_type": "code",
   "execution_count": null,
   "id": "a27167da",
   "metadata": {},
   "outputs": [],
   "source": []
  }
 ],
 "metadata": {
  "kernelspec": {
   "display_name": "Python 3 (ipykernel)",
   "language": "python",
   "name": "python3"
  },
  "language_info": {
   "codemirror_mode": {
    "name": "ipython",
    "version": 3
   },
   "file_extension": ".py",
   "mimetype": "text/x-python",
   "name": "python",
   "nbconvert_exporter": "python",
   "pygments_lexer": "ipython3",
   "version": "3.9.12"
  }
 },
 "nbformat": 4,
 "nbformat_minor": 5
}
