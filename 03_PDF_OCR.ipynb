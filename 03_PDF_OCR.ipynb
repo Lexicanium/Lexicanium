{
 "cells": [
  {
   "cell_type": "markdown",
   "id": "91f13a38",
   "metadata": {},
   "source": [
    "There is a directory with many science books. Lets count them."
   ]
  },
  {
   "cell_type": "markdown",
   "id": "7e962a8f",
   "metadata": {},
   "source": [
    "- first, convert all books to '.pkl' format for indexing\n",
    "https://www.kaggle.com/code/mobassir/bengali-tafsir-ibn-kathir-reader"
   ]
  },
  {
   "cell_type": "code",
   "execution_count": 3,
   "id": "e63ac4d2",
   "metadata": {},
   "outputs": [
    {
     "name": "stdout",
     "output_type": "stream",
     "text": [
      "2296\n"
     ]
    }
   ],
   "source": [
    "%ls /data/Books/*.pdf |wc -l"
   ]
  },
  {
   "cell_type": "code",
   "execution_count": 3,
   "id": "cabe4652-fae2-48ab-a187-17dae61be410",
   "metadata": {},
   "outputs": [
    {
     "name": "stdout",
     "output_type": "stream",
     "text": [
      "$ ^C\n",
      "\n",
      "$ "
     ]
    }
   ],
   "source": []
  },
  {
   "cell_type": "code",
   "execution_count": 1,
   "id": "74b95780-0678-4e4b-b875-0eba5d65c6ed",
   "metadata": {},
   "outputs": [
    {
     "name": "stdout",
     "output_type": "stream",
     "text": [
      "/bin/bash: conda: command not found\n",
      "/bin/bash: conda: command not found\n",
      "/bin/bash: conda: command not found\n",
      "\u001b[1;31mE: \u001b[0mCould not open lock file /var/lib/dpkg/lock-frontend - open (13: Permission denied)\u001b[0m\n",
      "\u001b[1;31mE: \u001b[0mUnable to acquire the dpkg frontend lock (/var/lib/dpkg/lock-frontend), are you root?\u001b[0m\n",
      "\u001b[1;31mE: \u001b[0mCould not open lock file /var/lib/dpkg/lock-frontend - open (13: Permission denied)\u001b[0m\n",
      "\u001b[1;31mE: \u001b[0mUnable to acquire the dpkg frontend lock (/var/lib/dpkg/lock-frontend), are you root?\u001b[0m\n",
      "E: Could not open lock file /var/lib/dpkg/lock-frontend - open (13: Permission denied)\n",
      "E: Unable to acquire the dpkg frontend lock (/var/lib/dpkg/lock-frontend), are you root?\n",
      "E: Could not open lock file /var/lib/dpkg/lock-frontend - open (13: Permission denied)\n",
      "E: Unable to acquire the dpkg frontend lock (/var/lib/dpkg/lock-frontend), are you root?\n",
      "E: Could not open lock file /var/lib/dpkg/lock-frontend - open (13: Permission denied)\n",
      "E: Unable to acquire the dpkg frontend lock (/var/lib/dpkg/lock-frontend), are you root?\n",
      "/bin/bash: conda: command not found\n",
      "/bin/bash: conda: command not found\n",
      "/bin/bash: conda: command not found\n",
      "/bin/bash: conda: command not found\n",
      "/bin/bash: conda: command not found\n"
     ]
    }
   ],
   "source": [
    "!conda -y install  gTTS\n",
    "#!pip install PyPDF2\n",
    "!conda -y  playsound\n",
    "!conda -y  multilingual-pdf2text==1.1.0\n",
    "!apt install -y tesseract-ocr\n",
    "!apt install -y libtesseract-dev\n",
    "!apt-get install -y poppler-utils \n",
    "!apt-get install tesseract-ocr-ara\n",
    "!apt-get install tesseract-ocr-ben\n",
    "!conda -y  wordcloud\n",
    "!conda -y  bnlp_toolkit\n",
    "!conda -y  googletrans==4.0.0-rc1\n",
    "!conda -y  pymupdf\n",
    "!conda -y  easyocr\n"
   ]
  },
  {
   "cell_type": "code",
   "execution_count": null,
   "id": "bbf03da6-4a44-476b-aaac-b2ac09cce80f",
   "metadata": {},
   "outputs": [],
   "source": [
    "from multilingual_pdf2text.pdf2text import PDF2Text\n",
    "from multilingual_pdf2text.models.document_model.document import Document\n",
    "import logging\n",
    "logging.basicConfig(level=logging.INFO)\n",
    "\n",
    "def main():\n",
    "    ## create document for extraction with configurations\n",
    "    pdf_document = Document(\n",
    "        document_path='/Users/shahrukh/Desktop/multilingual-pdf2text/example/example.pdf',\n",
    "        language='spa'\n",
    "        )\n",
    "    pdf2text = PDF2Text(document=pdf_document)\n",
    "    content = pdf2text.extract()\n",
    "    print(content)\n",
    "\n",
    "if __name__ == \"__main__\":\n",
    "    main()\n"
   ]
  }
 ],
 "metadata": {
  "kernelspec": {
   "display_name": "Python 3 (ipykernel)",
   "language": "python",
   "name": "python3"
  },
  "language_info": {
   "codemirror_mode": {
    "name": "ipython",
    "version": 3
   },
   "file_extension": ".py",
   "mimetype": "text/x-python",
   "name": "python",
   "nbconvert_exporter": "python",
   "pygments_lexer": "ipython3",
   "version": "3.9.13"
  }
 },
 "nbformat": 4,
 "nbformat_minor": 5
}
