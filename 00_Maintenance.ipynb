{
 "cells": [
  {
   "cell_type": "markdown",
   "id": "d884ea0b",
   "metadata": {},
   "source": [
    "https://medium.com/@maisa.milena/how-to-use-gitwatch-92c72e8ea4c4"
   ]
  },
  {
   "cell_type": "markdown",
   "id": "e04209e0",
   "metadata": {},
   "source": [
    "set up automatic commit of Notebooks directory to git after each change"
   ]
  },
  {
   "cell_type": "code",
   "execution_count": null,
   "id": "ff70a747",
   "metadata": {},
   "outputs": [],
   "source": [
    "done used gitwatch, hovewer git push needs to be run manually periodically\n"
   ]
  },
  {
   "cell_type": "code",
   "execution_count": null,
   "id": "4bca5a27",
   "metadata": {},
   "outputs": [],
   "source": [
    "setup a row in terminus with Tmux key combos\n",
    "setup ^n and ^p in tmux to switch layouts"
   ]
  }
 ],
 "metadata": {
  "kernelspec": {
   "display_name": "Python 3 (ipykernel)",
   "language": "python",
   "name": "python3"
  },
  "language_info": {
   "codemirror_mode": {
    "name": "ipython",
    "version": 3
   },
   "file_extension": ".py",
   "mimetype": "text/x-python",
   "name": "python",
   "nbconvert_exporter": "python",
   "pygments_lexer": "ipython3",
   "version": "3.9.12"
  }
 },
 "nbformat": 4,
 "nbformat_minor": 5
}
