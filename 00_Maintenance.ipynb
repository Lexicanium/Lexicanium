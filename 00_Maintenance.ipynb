{
 "cells": [
  {
   "cell_type": "markdown",
   "id": "d884ea0b",
   "metadata": {},
   "source": [
    "https://medium.com/@maisa.milena/how-to-use-gitwatch-92c72e8ea4c4"
   ]
  },
  {
   "cell_type": "markdown",
   "id": "e04209e0",
   "metadata": {},
   "source": [
    "set up automatic commit of Notebooks directory to git after each change"
   ]
  },
  {
   "cell_type": "code",
   "execution_count": null,
   "id": "60d96095",
   "metadata": {},
   "outputs": [],
   "source": [
    "and push to public github repo"
   ]
  },
  {
   "cell_type": "markdown",
   "id": "fbd19333",
   "metadata": {},
   "source": [
    "setup a dashboard with latest changes in Jupyter Notebooks"
   ]
  }
 ],
 "metadata": {
  "kernelspec": {
   "display_name": "Python 3 (ipykernel)",
   "language": "python",
   "name": "python3"
  },
  "language_info": {
   "codemirror_mode": {
    "name": "ipython",
    "version": 3
   },
   "file_extension": ".py",
   "mimetype": "text/x-python",
   "name": "python",
   "nbconvert_exporter": "python",
   "pygments_lexer": "ipython3",
   "version": "3.9.12"
  }
 },
 "nbformat": 4,
 "nbformat_minor": 5
}
